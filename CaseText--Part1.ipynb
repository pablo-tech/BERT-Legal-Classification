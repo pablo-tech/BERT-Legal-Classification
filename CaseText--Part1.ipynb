{
 "cells": [
  {
   "cell_type": "markdown",
   "metadata": {},
   "source": [
    "# SUMMARY"
   ]
  },
  {
   "cell_type": "markdown",
   "metadata": {},
   "source": [
    "## CaseText"
   ]
  },
  {
   "cell_type": "markdown",
   "metadata": {},
   "source": [
    "The data in treatments_list.json is a list of dicts. \n",
    "1. The full text of the case is in the \"text\" key of each dict\n",
    "2. The date the case was decided (in unix time) is in the \"decide_date\" key of each dict\n",
    "3. A code for the court that decided the case is in the \"jurisdiction_code\" key of each dict\n",
    "4. The title of the case is in the \"title\" key of each dict\n",
    "5. A list of flag codes is in the \"treatments\" key of each dict\n",
    "\n",
    "The data in dissenting_opinions.csv is a csv with 3 columns that mean the following:\n",
    "1. \"id\" an ID for that entry, probably not useful to you\n",
    "2. \"label\" - 1 if this text comes from the end of the majority opinion of a case in which there was a dissent (more on this in a minute), or 0 if it comes from any other part of the case. \n",
    "3. \"text\" - the text of a part of a case\n",
    "\n",
    "Your task will be to correctly predict when a case should have an 'r', 'v', or 'a' flag. These stand for \"reversing\", \"vacating\" or \"affirming\". One case can sometimes affirm in part and vacate or reverse in part. In these situations, we want the case to be given both flags that apply to it. The text where the affirming/reversing/vacating occurs is usually (but not always) at the end of the case. Where a case has a \"dissenting\" or \"concurring\" opinion, the relevant language will usually appear at the end of the \"majority\" opinion, right before the \"dissenting\" or \"concurring\" opinion begins.  Here is an example of text where an affirming occurs:\n",
    "\n",
    "\"Widomski failed to demonstrate that OCCC's explanation for its decision to bring disciplinary proceedings against him was pretext for retaliation. “Claims for retaliation [under the ADA] are analyzed under the same burden-shifting framework established for Title VII cases.” Treglia v. Town of Manlius, 313 F.3d 713, 719 (2d Cir.2002). For substantially the reasons set forth in the District Court's Opinion and Order entered March 21, 2013, we agree that Widomski has not produced evidence that would permit a reasonable factfinder to conclude that the initiation of disciplinary proceedings against him was a pretext for retaliation. Contarino's good faith belief that Widomski fabricated two assignments constitutes a legitimate, nonretaliatory reason for bringing a disciplinary action against him. The burden having shifted back to Widomski to provide competent evidence of pretext, Widomski fails to raise a genuine factual dispute as to whether this explanation is false or otherwise pretextual. See Weinstock v. Columbia Univ., 224 F.3d 33, 42 (2d Cir.2000). CONCLUSION We have considered Widomski's remaining arguments and conclude that they are without merit. For the foregoing reasons, the judgment of the District Court is AFFIRMED.\"\n",
    "\n",
    "As I said earlier today, you probably want to use a pre-trained transformer model, though feel free to use another approach if you think it would be better. I'd suggest getting a working classifier set up using just the data from treatments_list.json before attempting to use the data in dissenting_opinions.csv to try to help further. You should be able to do reasonably well with just the data in treatments_list.json. "
   ]
  },
  {
   "cell_type": "markdown",
   "metadata": {},
   "source": [
    "## JigSaw: Toxic Online Comments"
   ]
  },
  {
   "cell_type": "code",
   "execution_count": 1,
   "metadata": {},
   "outputs": [],
   "source": [
    "# The CaseText notebook was leveraged from prior NLP work on JigSaw's Kaggle competititon"
   ]
  },
  {
   "cell_type": "code",
   "execution_count": 2,
   "metadata": {},
   "outputs": [],
   "source": [
    "# Kaggle: https://www.kaggle.com/c/jigsaw-toxic-comment-classification-challenge\n",
    "# Notebook: https://nbviewer.jupyter.org/github/amaiya/ktrain/blob/master/tutorial-04-text-classification.ipynb"
   ]
  },
  {
   "cell_type": "markdown",
   "metadata": {},
   "source": [
    "# DEPENDENCIES"
   ]
  },
  {
   "cell_type": "markdown",
   "metadata": {},
   "source": [
    "## Import "
   ]
  },
  {
   "cell_type": "code",
   "execution_count": 3,
   "metadata": {},
   "outputs": [],
   "source": [
    "import os\n",
    "import collections\n",
    "import pandas as pd\n",
    "from datetime import datetime\n",
    "import numpy as np\n",
    "import json"
   ]
  },
  {
   "cell_type": "markdown",
   "metadata": {},
   "source": [
    "## Install"
   ]
  },
  {
   "cell_type": "code",
   "execution_count": 4,
   "metadata": {},
   "outputs": [
    {
     "name": "stdout",
     "output_type": "stream",
     "text": [
      "Requirement already satisfied: ktrain in /home/ec2-user/anaconda3/envs/tensorflow_p36/lib/python3.6/site-packages (0.7.2)\n",
      "Requirement already satisfied: networkx==2.3 in /home/ec2-user/anaconda3/envs/tensorflow_p36/lib/python3.6/site-packages (from ktrain) (2.3)\n",
      "Requirement already satisfied: fastprogress>=0.1.21 in /home/ec2-user/anaconda3/envs/tensorflow_p36/lib/python3.6/site-packages (from ktrain) (0.1.22)\n",
      "Requirement already satisfied: joblib in /home/ec2-user/anaconda3/envs/tensorflow_p36/lib/python3.6/site-packages (from ktrain) (0.13.2)\n",
      "Requirement already satisfied: keras-bert in /home/ec2-user/anaconda3/envs/tensorflow_p36/lib/python3.6/site-packages (from ktrain) (0.80.0)\n",
      "Requirement already satisfied: packaging in /home/ec2-user/anaconda3/envs/tensorflow_p36/lib/python3.6/site-packages (from ktrain) (17.1)\n",
      "Requirement already satisfied: pandas>=0.24.2 in /home/ec2-user/anaconda3/envs/tensorflow_p36/lib/python3.6/site-packages (from ktrain) (0.24.2)\n",
      "Requirement already satisfied: jieba in /home/ec2-user/anaconda3/envs/tensorflow_p36/lib/python3.6/site-packages (from ktrain) (0.39)\n",
      "Requirement already satisfied: requests in /home/ec2-user/anaconda3/envs/tensorflow_p36/lib/python3.6/site-packages (from ktrain) (2.20.0)\n",
      "Requirement already satisfied: matplotlib>=3.0.0 in /home/ec2-user/anaconda3/envs/tensorflow_p36/lib/python3.6/site-packages (from ktrain) (3.0.3)\n",
      "Requirement already satisfied: cchardet in /home/ec2-user/anaconda3/envs/tensorflow_p36/lib/python3.6/site-packages (from ktrain) (2.1.5)\n",
      "Requirement already satisfied: bokeh in /home/ec2-user/anaconda3/envs/tensorflow_p36/lib/python3.6/site-packages (from ktrain) (1.0.4)\n",
      "Requirement already satisfied: langdetect in /home/ec2-user/anaconda3/envs/tensorflow_p36/lib/python3.6/site-packages (from ktrain) (1.0.7)\n",
      "Requirement already satisfied: scikit-learn==0.21.3 in /home/ec2-user/anaconda3/envs/tensorflow_p36/lib/python3.6/site-packages (from ktrain) (0.21.3)\n",
      "Requirement already satisfied: seqeval in /home/ec2-user/anaconda3/envs/tensorflow_p36/lib/python3.6/site-packages (from ktrain) (0.0.12)\n",
      "Requirement already satisfied: decorator>=4.3.0 in /home/ec2-user/anaconda3/envs/tensorflow_p36/lib/python3.6/site-packages (from networkx==2.3->ktrain) (4.3.0)\n",
      "Requirement already satisfied: Keras in /home/ec2-user/anaconda3/envs/tensorflow_p36/lib/python3.6/site-packages (from keras-bert->ktrain) (2.2.4)\n",
      "Requirement already satisfied: numpy in /home/ec2-user/anaconda3/envs/tensorflow_p36/lib/python3.6/site-packages (from keras-bert->ktrain) (1.16.4)\n",
      "Requirement already satisfied: keras-transformer>=0.30.0 in /home/ec2-user/anaconda3/envs/tensorflow_p36/lib/python3.6/site-packages (from keras-bert->ktrain) (0.31.0)\n",
      "Requirement already satisfied: pyparsing>=2.0.2 in /home/ec2-user/anaconda3/envs/tensorflow_p36/lib/python3.6/site-packages (from packaging->ktrain) (2.2.0)\n",
      "Requirement already satisfied: six in /home/ec2-user/anaconda3/envs/tensorflow_p36/lib/python3.6/site-packages (from packaging->ktrain) (1.11.0)\n",
      "Requirement already satisfied: pytz>=2011k in /home/ec2-user/anaconda3/envs/tensorflow_p36/lib/python3.6/site-packages (from pandas>=0.24.2->ktrain) (2018.4)\n",
      "Requirement already satisfied: python-dateutil>=2.5.0 in /home/ec2-user/anaconda3/envs/tensorflow_p36/lib/python3.6/site-packages (from pandas>=0.24.2->ktrain) (2.7.3)\n",
      "Requirement already satisfied: urllib3<1.25,>=1.21.1 in /home/ec2-user/anaconda3/envs/tensorflow_p36/lib/python3.6/site-packages (from requests->ktrain) (1.23)\n",
      "Requirement already satisfied: idna<2.8,>=2.5 in /home/ec2-user/anaconda3/envs/tensorflow_p36/lib/python3.6/site-packages (from requests->ktrain) (2.6)\n",
      "Requirement already satisfied: chardet<3.1.0,>=3.0.2 in /home/ec2-user/anaconda3/envs/tensorflow_p36/lib/python3.6/site-packages (from requests->ktrain) (3.0.4)\n",
      "Requirement already satisfied: certifi>=2017.4.17 in /home/ec2-user/anaconda3/envs/tensorflow_p36/lib/python3.6/site-packages (from requests->ktrain) (2019.9.11)\n",
      "Requirement already satisfied: kiwisolver>=1.0.1 in /home/ec2-user/anaconda3/envs/tensorflow_p36/lib/python3.6/site-packages (from matplotlib>=3.0.0->ktrain) (1.0.1)\n",
      "Requirement already satisfied: cycler>=0.10 in /home/ec2-user/anaconda3/envs/tensorflow_p36/lib/python3.6/site-packages (from matplotlib>=3.0.0->ktrain) (0.10.0)\n",
      "Requirement already satisfied: PyYAML>=3.10 in /home/ec2-user/anaconda3/envs/tensorflow_p36/lib/python3.6/site-packages (from bokeh->ktrain) (3.12)\n",
      "Requirement already satisfied: pillow>=4.0 in /home/ec2-user/anaconda3/envs/tensorflow_p36/lib/python3.6/site-packages (from bokeh->ktrain) (5.2.0)\n",
      "Requirement already satisfied: Jinja2>=2.7 in /home/ec2-user/anaconda3/envs/tensorflow_p36/lib/python3.6/site-packages (from bokeh->ktrain) (2.10)\n",
      "Requirement already satisfied: tornado>=4.3 in /home/ec2-user/anaconda3/envs/tensorflow_p36/lib/python3.6/site-packages (from bokeh->ktrain) (5.0.2)\n",
      "Requirement already satisfied: scipy>=0.17.0 in /home/ec2-user/anaconda3/envs/tensorflow_p36/lib/python3.6/site-packages (from scikit-learn==0.21.3->ktrain) (1.3.1)\n",
      "Requirement already satisfied: keras-preprocessing>=1.0.5 in /home/ec2-user/anaconda3/envs/tensorflow_p36/lib/python3.6/site-packages (from Keras->keras-bert->ktrain) (1.1.0)\n",
      "Requirement already satisfied: keras-applications>=1.0.6 in /home/ec2-user/anaconda3/envs/tensorflow_p36/lib/python3.6/site-packages (from Keras->keras-bert->ktrain) (1.0.8)\n",
      "Requirement already satisfied: h5py in /home/ec2-user/anaconda3/envs/tensorflow_p36/lib/python3.6/site-packages (from Keras->keras-bert->ktrain) (2.8.0)\n",
      "Requirement already satisfied: keras-embed-sim>=0.7.0 in /home/ec2-user/anaconda3/envs/tensorflow_p36/lib/python3.6/site-packages (from keras-transformer>=0.30.0->keras-bert->ktrain) (0.7.0)\n",
      "Requirement already satisfied: keras-multi-head>=0.22.0 in /home/ec2-user/anaconda3/envs/tensorflow_p36/lib/python3.6/site-packages (from keras-transformer>=0.30.0->keras-bert->ktrain) (0.22.0)\n",
      "Requirement already satisfied: keras-pos-embd>=0.10.0 in /home/ec2-user/anaconda3/envs/tensorflow_p36/lib/python3.6/site-packages (from keras-transformer>=0.30.0->keras-bert->ktrain) (0.11.0)\n",
      "Requirement already satisfied: keras-position-wise-feed-forward>=0.5.0 in /home/ec2-user/anaconda3/envs/tensorflow_p36/lib/python3.6/site-packages (from keras-transformer>=0.30.0->keras-bert->ktrain) (0.6.0)\n",
      "Requirement already satisfied: keras-layer-normalization>=0.12.0 in /home/ec2-user/anaconda3/envs/tensorflow_p36/lib/python3.6/site-packages (from keras-transformer>=0.30.0->keras-bert->ktrain) (0.14.0)\n",
      "Requirement already satisfied: setuptools in /home/ec2-user/anaconda3/envs/tensorflow_p36/lib/python3.6/site-packages (from kiwisolver>=1.0.1->matplotlib>=3.0.0->ktrain) (41.5.1)\n",
      "Requirement already satisfied: MarkupSafe>=0.23 in /home/ec2-user/anaconda3/envs/tensorflow_p36/lib/python3.6/site-packages (from Jinja2>=2.7->bokeh->ktrain) (1.0)\n",
      "Requirement already satisfied: keras-self-attention==0.41.0 in /home/ec2-user/anaconda3/envs/tensorflow_p36/lib/python3.6/site-packages (from keras-multi-head>=0.22.0->keras-transformer>=0.30.0->keras-bert->ktrain) (0.41.0)\n",
      "\u001b[33mYou are using pip version 10.0.1, however version 19.3.1 is available.\n",
      "You should consider upgrading via the 'pip install --upgrade pip' command.\u001b[0m\n"
     ]
    }
   ],
   "source": [
    "# ktrain is a lightweight wrapper for the deep learning library Keras\n",
    "# https://towardsdatascience.com/ktrain-a-lightweight-wrapper-for-keras-to-help-train-neural-networks-82851ba889c\n",
    "# https://towardsdatascience.com/ktrain-a-lightweight-wrapper-for-keras-to-help-train-neural-networks-82851ba889c\n",
    "# https://nbviewer.jupyter.org/github/amaiya/ktrain/blob/master/tutorial-04-text-classification.ipynb\n",
    "\n",
    "!pip install ktrain "
   ]
  },
  {
   "cell_type": "code",
   "execution_count": 5,
   "metadata": {},
   "outputs": [
    {
     "name": "stdout",
     "output_type": "stream",
     "text": [
      "using Keras version: 2.2.4-tf\n"
     ]
    }
   ],
   "source": [
    "import ktrain\n",
    "\n",
    "from ktrain import text"
   ]
  },
  {
   "cell_type": "code",
   "execution_count": 6,
   "metadata": {},
   "outputs": [
    {
     "data": {
      "text/plain": [
       "'0.7.2'"
      ]
     },
     "execution_count": 6,
     "metadata": {},
     "output_type": "execute_result"
    }
   ],
   "source": [
    "ktrain.__version__"
   ]
  },
  {
   "cell_type": "markdown",
   "metadata": {},
   "source": [
    "# ENVIRONMENT"
   ]
  },
  {
   "cell_type": "markdown",
   "metadata": {},
   "source": [
    "## Global vars"
   ]
  },
  {
   "cell_type": "code",
   "execution_count": 7,
   "metadata": {},
   "outputs": [],
   "source": [
    "## model to use\n",
    "# learner_name =  'bert' \n",
    "learner_name =  'fasttext' \n",
    "\n",
    "## dataset to ue\n",
    "data_set = 'jigsaw'\n",
    "# data_set = 'casetext'"
   ]
  },
  {
   "cell_type": "code",
   "execution_count": 8,
   "metadata": {},
   "outputs": [],
   "source": [
    "## path to data\n",
    "NLP_ROOT = '/home/ec2-user/SageMaker/efs/NLP/'\n",
    "JIGSAW_FOLDER = 'JigSaw/'\n",
    "CASE_FOLDER = 'CaseText/'\n",
    "JIGSAW_ROOT = NLP_ROOT + JIGSAW_FOLDER\n",
    "CASETEXT_ROOT = NLP_ROOT + CASE_FOLDER\n",
    "\n",
    "if data_set == 'jigsaw':\n",
    "    NLP_ROOT = JIGSAW_ROOT\n",
    "if data_set == 'casetext':\n",
    "    NLP_ROOT = CASETEXT_ROOT\n",
    "    \n",
    "## max num of words to consider in vocabulary\n",
    "NUM_WORDS = 50000\n",
    "\n",
    "## each document can be of most <maxlen> words. 0 is used as padding ID.\n",
    "MAX_LEN = 150\n",
    "\n",
    "## batch_size based on recommendations from Google, depends on sequence_length\n",
    "# https://github.com/google-research/bert/blob/master/README.md\n",
    "BATCH_SIZE = 6\n",
    "\n",
    "## proportion of training to use for validation\n",
    "# if None, 10% of data will be used for validation\n",
    "VAL_PCT = None \n",
    "\n",
    "## size of multi-word phrases to consider: 2 will consider both 1-word phrases and 2-word phrases     \n",
    "NGRAM_RANGE = 1"
   ]
  },
  {
   "cell_type": "markdown",
   "metadata": {},
   "source": [
    "## Dataset vars"
   ]
  },
  {
   "cell_type": "markdown",
   "metadata": {},
   "source": [
    "### JigSaw"
   ]
  },
  {
   "cell_type": "code",
   "execution_count": 9,
   "metadata": {},
   "outputs": [],
   "source": [
    "if data_set == 'jigsaw':\n",
    "    x_col_name = 'comment_text'\n",
    "    y_labels = [\"toxic\", \"severe_toxic\", \"obscene\", \"threat\", \"insult\", \"identity_hate\"]\n",
    "    TRAIN_PATH = JIGSAW_ROOT + 'jigsaw-train.csv'\n",
    "    TEST_PATH = JIGSAW_ROOT + 'jigsaw-test.csv'"
   ]
  },
  {
   "cell_type": "markdown",
   "metadata": {},
   "source": [
    "### CaseText"
   ]
  },
  {
   "cell_type": "code",
   "execution_count": 10,
   "metadata": {},
   "outputs": [],
   "source": [
    "# if data_set == 'casetext':\n",
    "TREATMENT_PATH = CASETEXT_ROOT + 'treatments_list.json'\n",
    "DISSENTING_PATH = CASETEXT_ROOT + 'dissenting_opinions.csv'"
   ]
  },
  {
   "cell_type": "markdown",
   "metadata": {},
   "source": [
    "# EXTRACT"
   ]
  },
  {
   "cell_type": "markdown",
   "metadata": {},
   "source": [
    "## JigSaw "
   ]
  },
  {
   "cell_type": "code",
   "execution_count": 11,
   "metadata": {},
   "outputs": [
    {
     "name": "stdout",
     "output_type": "stream",
     "text": [
      "train= (159571, 8)\n",
      "test= (153164, 2)\n"
     ]
    }
   ],
   "source": [
    "train = pd.read_csv(TRAIN_PATH)\n",
    "test = pd.read_csv(TEST_PATH)\n",
    "\n",
    "print(\"train=\", train.shape)\n",
    "print(\"test=\", test.shape)"
   ]
  },
  {
   "cell_type": "code",
   "execution_count": 12,
   "metadata": {},
   "outputs": [
    {
     "data": {
      "text/html": [
       "<div>\n",
       "<style scoped>\n",
       "    .dataframe tbody tr th:only-of-type {\n",
       "        vertical-align: middle;\n",
       "    }\n",
       "\n",
       "    .dataframe tbody tr th {\n",
       "        vertical-align: top;\n",
       "    }\n",
       "\n",
       "    .dataframe thead th {\n",
       "        text-align: right;\n",
       "    }\n",
       "</style>\n",
       "<table border=\"1\" class=\"dataframe\">\n",
       "  <thead>\n",
       "    <tr style=\"text-align: right;\">\n",
       "      <th></th>\n",
       "      <th>id</th>\n",
       "      <th>comment_text</th>\n",
       "      <th>toxic</th>\n",
       "      <th>severe_toxic</th>\n",
       "      <th>obscene</th>\n",
       "      <th>threat</th>\n",
       "      <th>insult</th>\n",
       "      <th>identity_hate</th>\n",
       "    </tr>\n",
       "  </thead>\n",
       "  <tbody>\n",
       "    <tr>\n",
       "      <th>0</th>\n",
       "      <td>0000997932d777bf</td>\n",
       "      <td>Explanation\\nWhy the edits made under my usern...</td>\n",
       "      <td>0</td>\n",
       "      <td>0</td>\n",
       "      <td>0</td>\n",
       "      <td>0</td>\n",
       "      <td>0</td>\n",
       "      <td>0</td>\n",
       "    </tr>\n",
       "    <tr>\n",
       "      <th>1</th>\n",
       "      <td>000103f0d9cfb60f</td>\n",
       "      <td>D'aww! He matches this background colour I'm s...</td>\n",
       "      <td>0</td>\n",
       "      <td>0</td>\n",
       "      <td>0</td>\n",
       "      <td>0</td>\n",
       "      <td>0</td>\n",
       "      <td>0</td>\n",
       "    </tr>\n",
       "    <tr>\n",
       "      <th>2</th>\n",
       "      <td>000113f07ec002fd</td>\n",
       "      <td>Hey man, I'm really not trying to edit war. It...</td>\n",
       "      <td>0</td>\n",
       "      <td>0</td>\n",
       "      <td>0</td>\n",
       "      <td>0</td>\n",
       "      <td>0</td>\n",
       "      <td>0</td>\n",
       "    </tr>\n",
       "    <tr>\n",
       "      <th>3</th>\n",
       "      <td>0001b41b1c6bb37e</td>\n",
       "      <td>\"\\nMore\\nI can't make any real suggestions on ...</td>\n",
       "      <td>0</td>\n",
       "      <td>0</td>\n",
       "      <td>0</td>\n",
       "      <td>0</td>\n",
       "      <td>0</td>\n",
       "      <td>0</td>\n",
       "    </tr>\n",
       "    <tr>\n",
       "      <th>4</th>\n",
       "      <td>0001d958c54c6e35</td>\n",
       "      <td>You, sir, are my hero. Any chance you remember...</td>\n",
       "      <td>0</td>\n",
       "      <td>0</td>\n",
       "      <td>0</td>\n",
       "      <td>0</td>\n",
       "      <td>0</td>\n",
       "      <td>0</td>\n",
       "    </tr>\n",
       "  </tbody>\n",
       "</table>\n",
       "</div>"
      ],
      "text/plain": [
       "                 id                                       comment_text  toxic  \\\n",
       "0  0000997932d777bf  Explanation\\nWhy the edits made under my usern...      0   \n",
       "1  000103f0d9cfb60f  D'aww! He matches this background colour I'm s...      0   \n",
       "2  000113f07ec002fd  Hey man, I'm really not trying to edit war. It...      0   \n",
       "3  0001b41b1c6bb37e  \"\\nMore\\nI can't make any real suggestions on ...      0   \n",
       "4  0001d958c54c6e35  You, sir, are my hero. Any chance you remember...      0   \n",
       "\n",
       "   severe_toxic  obscene  threat  insult  identity_hate  \n",
       "0             0        0       0       0              0  \n",
       "1             0        0       0       0              0  \n",
       "2             0        0       0       0              0  \n",
       "3             0        0       0       0              0  \n",
       "4             0        0       0       0              0  "
      ]
     },
     "execution_count": 12,
     "metadata": {},
     "output_type": "execute_result"
    }
   ],
   "source": [
    "train.head()\n",
    "# test.head()"
   ]
  },
  {
   "cell_type": "code",
   "execution_count": 13,
   "metadata": {},
   "outputs": [
    {
     "data": {
      "text/plain": [
       "\"Explanation\\nWhy the edits made under my username Hardcore Metallica Fan were reverted? They weren't vandalisms, just closure on some GAs after I voted at New York Dolls FAC. And please don't remove the template from the talk page since I'm retired now.89.205.38.27\""
      ]
     },
     "execution_count": 13,
     "metadata": {},
     "output_type": "execute_result"
    }
   ],
   "source": [
    "a_text = train[x_col_name][0]\n",
    "a_text"
   ]
  },
  {
   "cell_type": "code",
   "execution_count": 14,
   "metadata": {},
   "outputs": [
    {
     "data": {
      "text/plain": [
       "264"
      ]
     },
     "execution_count": 14,
     "metadata": {},
     "output_type": "execute_result"
    }
   ],
   "source": [
    "# Longer sequences are disproportionately expensive because attention is quadratic to the sequence length\n",
    "# Publication https://github.com/google-research/bert/blob/master/README.md\n",
    "# An approach https://github.com/google-research/bert/issues/27\n",
    "len(a_text)"
   ]
  },
  {
   "cell_type": "markdown",
   "metadata": {},
   "source": [
    "## CaseText"
   ]
  },
  {
   "cell_type": "markdown",
   "metadata": {},
   "source": [
    "### Treatments"
   ]
  },
  {
   "cell_type": "code",
   "execution_count": 15,
   "metadata": {},
   "outputs": [],
   "source": [
    "with open(TREATMENT_PATH) as json_file:\n",
    "    treatments = json.load(json_file)"
   ]
  },
  {
   "cell_type": "code",
   "execution_count": 16,
   "metadata": {},
   "outputs": [
    {
     "name": "stdout",
     "output_type": "stream",
     "text": [
      "count= 10821 treatment= ['m'] court= 10th Cir. date= 1279497600000 len= 29287 title= Rocky Mountain Christian v. Board of Cty text= <module 'ktrain.text' from '/home/ec2-user/anaconda3/envs/tensorflow_p36/lib/python3.6/site-packages/ktrain/text/__init__.py'>\n"
     ]
    }
   ],
   "source": [
    "count = len(treatments)    \n",
    "dic =  treatments[2]   \n",
    "case_text = dic['text'] \n",
    "date = dic['decide_date']\n",
    "court = dic['jurisdiction_code']\n",
    "title = dic['title']\n",
    "treatment = dic['treatments']\n",
    "print(\"count=\", count, \"treatment=\", treatment, \"court=\", court, \"date=\", date, \"len=\", len(case_text), \"title=\", title, \"text=\", text)"
   ]
  },
  {
   "cell_type": "markdown",
   "metadata": {},
   "source": [
    "### Dissenting"
   ]
  },
  {
   "cell_type": "code",
   "execution_count": 17,
   "metadata": {},
   "outputs": [],
   "source": [
    "dissenting = pd.read_csv(DISSENTING_PATH)"
   ]
  },
  {
   "cell_type": "code",
   "execution_count": 18,
   "metadata": {},
   "outputs": [
    {
     "data": {
      "text/html": [
       "<div>\n",
       "<style scoped>\n",
       "    .dataframe tbody tr th:only-of-type {\n",
       "        vertical-align: middle;\n",
       "    }\n",
       "\n",
       "    .dataframe tbody tr th {\n",
       "        vertical-align: top;\n",
       "    }\n",
       "\n",
       "    .dataframe thead th {\n",
       "        text-align: right;\n",
       "    }\n",
       "</style>\n",
       "<table border=\"1\" class=\"dataframe\">\n",
       "  <thead>\n",
       "    <tr style=\"text-align: right;\">\n",
       "      <th></th>\n",
       "      <th>id</th>\n",
       "      <th>label</th>\n",
       "      <th>text</th>\n",
       "    </tr>\n",
       "  </thead>\n",
       "  <tbody>\n",
       "    <tr>\n",
       "      <th>0</th>\n",
       "      <td>101048</td>\n",
       "      <td>0</td>\n",
       "      <td>decision was not a correct interpretation of t...</td>\n",
       "    </tr>\n",
       "    <tr>\n",
       "      <th>1</th>\n",
       "      <td>65588</td>\n",
       "      <td>0</td>\n",
       "      <td>agency as defined in K.R.S. 61.805, but that ...</td>\n",
       "    </tr>\n",
       "    <tr>\n",
       "      <th>2</th>\n",
       "      <td>119495</td>\n",
       "      <td>0</td>\n",
       "      <td>\"appl[ied] evenhandedly to all similar claims...</td>\n",
       "    </tr>\n",
       "    <tr>\n",
       "      <th>3</th>\n",
       "      <td>146601</td>\n",
       "      <td>0</td>\n",
       "      <td>egal precedents thoroughly and cogently examin...</td>\n",
       "    </tr>\n",
       "    <tr>\n",
       "      <th>4</th>\n",
       "      <td>101788</td>\n",
       "      <td>0</td>\n",
       "      <td>here were. * * *\"   A similar rule is followed...</td>\n",
       "    </tr>\n",
       "  </tbody>\n",
       "</table>\n",
       "</div>"
      ],
      "text/plain": [
       "       id  label                                               text\n",
       "0  101048      0  decision was not a correct interpretation of t...\n",
       "1   65588      0   agency as defined in K.R.S. 61.805, but that ...\n",
       "2  119495      0   \"appl[ied] evenhandedly to all similar claims...\n",
       "3  146601      0  egal precedents thoroughly and cogently examin...\n",
       "4  101788      0  here were. * * *\"   A similar rule is followed..."
      ]
     },
     "execution_count": 18,
     "metadata": {},
     "output_type": "execute_result"
    }
   ],
   "source": [
    "# \"label\": \n",
    "# - 1 if this text comes from the end of the majority opinion of a case in which there was a dissent \n",
    "# - 0 if it comes from any other part of the case.\n",
    "# \"text\": part of the case\n",
    "dissenting.head()"
   ]
  },
  {
   "cell_type": "code",
   "execution_count": 19,
   "metadata": {},
   "outputs": [
    {
     "data": {
      "text/plain": [
       "\"decision was not a correct interpretation of the intent of the original legislation.   For the above reasons, in order to resolve the ambiguities contained in the Medical Malpractice Act that are at issue in this case and to avoid disparate treatment of wrongful death claims brought pursuant to section 766.207, I believe the Medical Malpractice Act is best interpreted in conjunction with the Wrongful Death Act.   Applying the applicable provisions of the Wrongful Death Act to this case, Mrs. Barlow would be entitled to lost support and services, and her husband's estate would be entitled to Mr. Barlow's prospective net accumulations. This result makes all four scenarios for the award of damages provided for in section 766.209 consistent. It is also the result after the new statutory amendments take effect. Therefore, I believe it is the correct result in this case.    For the foregoing reasons, I respectfully dissent. \""
      ]
     },
     "execution_count": 19,
     "metadata": {},
     "output_type": "execute_result"
    }
   ],
   "source": [
    "dissenting['text'][0]"
   ]
  },
  {
   "cell_type": "code",
   "execution_count": 20,
   "metadata": {},
   "outputs": [
    {
     "data": {
      "text/plain": [
       "0       0\n",
       "1       0\n",
       "2       0\n",
       "3       0\n",
       "4       0\n",
       "5       0\n",
       "6       1\n",
       "7       1\n",
       "8       0\n",
       "9       0\n",
       "10      1\n",
       "11      1\n",
       "12      0\n",
       "13      1\n",
       "14      0\n",
       "15      0\n",
       "16      0\n",
       "17      0\n",
       "18      0\n",
       "19      1\n",
       "20      0\n",
       "21      1\n",
       "22      1\n",
       "23      0\n",
       "24      1\n",
       "25      0\n",
       "26      0\n",
       "27      1\n",
       "28      1\n",
       "29      0\n",
       "       ..\n",
       "9970    1\n",
       "9971    0\n",
       "9972    1\n",
       "9973    0\n",
       "9974    1\n",
       "9975    0\n",
       "9976    0\n",
       "9977    0\n",
       "9978    1\n",
       "9979    1\n",
       "9980    0\n",
       "9981    0\n",
       "9982    0\n",
       "9983    0\n",
       "9984    0\n",
       "9985    1\n",
       "9986    0\n",
       "9987    0\n",
       "9988    0\n",
       "9989    1\n",
       "9990    1\n",
       "9991    1\n",
       "9992    1\n",
       "9993    1\n",
       "9994    1\n",
       "9995    1\n",
       "9996    1\n",
       "9997    1\n",
       "9998    1\n",
       "9999    0\n",
       "Name: label, Length: 10000, dtype: int64"
      ]
     },
     "execution_count": 20,
     "metadata": {},
     "output_type": "execute_result"
    }
   ],
   "source": [
    "dissenting['label']"
   ]
  },
  {
   "cell_type": "markdown",
   "metadata": {},
   "source": [
    "### Assemble"
   ]
  },
  {
   "cell_type": "code",
   "execution_count": null,
   "metadata": {},
   "outputs": [],
   "source": []
  },
  {
   "cell_type": "code",
   "execution_count": null,
   "metadata": {},
   "outputs": [],
   "source": []
  },
  {
   "cell_type": "code",
   "execution_count": null,
   "metadata": {},
   "outputs": [],
   "source": []
  },
  {
   "cell_type": "markdown",
   "metadata": {},
   "source": [
    "### Filter stop words"
   ]
  },
  {
   "cell_type": "code",
   "execution_count": null,
   "metadata": {},
   "outputs": [],
   "source": []
  },
  {
   "cell_type": "code",
   "execution_count": null,
   "metadata": {},
   "outputs": [],
   "source": []
  },
  {
   "cell_type": "code",
   "execution_count": null,
   "metadata": {},
   "outputs": [],
   "source": []
  },
  {
   "cell_type": "markdown",
   "metadata": {},
   "source": [
    "# TRANSFORM"
   ]
  },
  {
   "cell_type": "markdown",
   "metadata": {},
   "source": [
    "## Format data for learner"
   ]
  },
  {
   "cell_type": "code",
   "execution_count": 21,
   "metadata": {},
   "outputs": [
    {
     "name": "stdout",
     "output_type": "stream",
     "text": [
      "TRAIN_PATH= /home/ec2-user/SageMaker/efs/NLP/JigSaw/jigsaw-train.csv \n",
      "VAL_PCT= None \n",
      "x_col_name= comment_text \n",
      "y_labels= ['toxic', 'severe_toxic', 'obscene', 'threat', 'insult', 'identity_hate']\n",
      "NUM_WORDS= 50000 \n",
      "MAX_LEN= 150 \n",
      "NGRAM_RANGE= 1 \n",
      "preprocess_mode= standard\n"
     ]
    }
   ],
   "source": [
    "# BERT expects input data in a specific format, \n",
    "# with special tokens to mark the beginning ([CLS]) and separation/end of sentences ([SEP]). \n",
    "# Furthermore, we need to tokenize our text into tokens that correspond to BERT’s vocabulary.\n",
    "\"\"\"\n",
    "x_col_name: column containing the text\n",
    "y_labels: list of columns that are to be treated as labels\n",
    "learner_name: 'bert', 'fasttext'\n",
    "TRAIN_PATH: path to training set\n",
    "TEST_PATH: path to test set\n",
    "NUM_WORDS: max num of words to consider in vocabulary\n",
    "MAX_LEN: each document can be of most <maxlen> words. 0 is used as padding ID.\n",
    "Source: https://github.com/amaiya/ktrain/blob/7213e3ac35b71e7cad8c188a494d2b310a871d61/ktrain/text/data.py#L121\n",
    "\"\"\"\n",
    "\n",
    "### Additional texts_from_csv options:\n",
    "# preprocess_mode='standard' (normal tokenization) or 'bert' tokenization and preprocessing\n",
    "# encoding=None,  # auto-detected\n",
    "# lang=None,      # auto-detected\n",
    "# sep=',', random_state=None,       \n",
    "# verbose=1\n",
    "\n",
    "if learner_name == 'bert':\n",
    "    preprocess_mode = learner_name\n",
    "else:\n",
    "    preprocess_mode = 'standard'\n",
    "\n",
    "# print config    \n",
    "print(\"TRAIN_PATH=\", TRAIN_PATH, \"\\nVAL_PCT=\", VAL_PCT, \"\\nx_col_name=\", x_col_name, \"\\ny_labels=\", y_labels)\n",
    "print(\"NUM_WORDS=\", NUM_WORDS, \"\\nMAX_LEN=\", MAX_LEN, \"\\nNGRAM_RANGE=\", NGRAM_RANGE, \"\\npreprocess_mode=\", preprocess_mode)"
   ]
  },
  {
   "cell_type": "code",
   "execution_count": 22,
   "metadata": {},
   "outputs": [
    {
     "name": "stdout",
     "output_type": "stream",
     "text": [
      "detected encoding: utf-8 (if wrong, set manually)\n",
      "language: en\n",
      "Word Counts: 175893\n",
      "Nrows: 119678\n",
      "119678 train sequences\n",
      "Average train sequence length: 66\n",
      "x_train shape: (119678,150)\n",
      "y_train shape: (119678,6)\n",
      "39893 test sequences\n",
      "Average test sequence length: 66\n",
      "x_test shape: (39893,150)\n",
      "y_test shape: (39893,6)\n"
     ]
    }
   ],
   "source": [
    "# return preprocessed the texts and the pre-processor    \n",
    "(x_train, y_train), (x_test, y_test), pre_processor = text.texts_from_csv(train_filepath=TRAIN_PATH,\n",
    "                                                                         val_pct=VAL_PCT, \n",
    "                                                                         text_column=x_col_name,\n",
    "                                                                         label_columns = y_labels,\n",
    "                                                                         max_features=NUM_WORDS, \n",
    "                                                                         maxlen=MAX_LEN,\n",
    "                                                                         ngram_range=NGRAM_RANGE,\n",
    "                                                                         preprocess_mode=preprocess_mode\n",
    "                                                                         )"
   ]
  },
  {
   "cell_type": "markdown",
   "metadata": {},
   "source": [
    "## Explore Transformed Input Data"
   ]
  },
  {
   "cell_type": "code",
   "execution_count": 23,
   "metadata": {},
   "outputs": [
    {
     "data": {
      "text/plain": [
       "array([   0,    0,    0,    0,    0,    0,    0,    0,    0,    0,    0,\n",
       "          0,    0,    0,    0,    0,    0,    0,    0,    0,    0,    0,\n",
       "          0,    0,    0,    0,    0,    0,    0,    0,    0,    0,    0,\n",
       "          0,    0,    0,    0,    0,    0,    0,    0,    0,    0,    0,\n",
       "          0,    0,    0,    0,    0,    0,    0,    0,    0,    0,    0,\n",
       "          0,    0,    0,    0,    0,    0,    0,    0,    0,    0,    0,\n",
       "          0,    0,    0,    0,    0,    0,    0,    0,    0,    0,    0,\n",
       "          0,    0,    0,    0,    0,    0,    0,    0,    0,    0,    0,\n",
       "          0,    0,    0,    0,    0,    0,    0,    0,    0,    0,    0,\n",
       "          0,    0,    0,    0,    0,    0,    0,    0,    0,    0,    0,\n",
       "          0,    0,    0,    0,    0,    0,    0,    0,    0,    0,    0,\n",
       "          0,    0,    0,    0,    0,    0,    0,    0,    0,   78,    5,\n",
       "        389,  209,   26,   11,  155, 1849,   49,   30, 3903,    4,   11,\n",
       "        155,  201,  596,   54,  272,  178,  107], dtype=int32)"
      ]
     },
     "execution_count": 23,
     "metadata": {},
     "output_type": "execute_result"
    }
   ],
   "source": [
    "x_train[0]"
   ]
  },
  {
   "cell_type": "code",
   "execution_count": 24,
   "metadata": {},
   "outputs": [
    {
     "data": {
      "text/plain": [
       "array([[0, 0, 0, 0, 0, 0],\n",
       "       [0, 0, 0, 0, 0, 0],\n",
       "       [0, 0, 0, 0, 0, 0],\n",
       "       ...,\n",
       "       [0, 0, 0, 0, 0, 0],\n",
       "       [0, 0, 0, 0, 0, 0],\n",
       "       [0, 0, 0, 0, 0, 0]])"
      ]
     },
     "execution_count": 24,
     "metadata": {},
     "output_type": "execute_result"
    }
   ],
   "source": [
    "y_train"
   ]
  },
  {
   "cell_type": "code",
   "execution_count": 25,
   "metadata": {},
   "outputs": [
    {
     "data": {
      "text/plain": [
       "6"
      ]
     },
     "execution_count": 25,
     "metadata": {},
     "output_type": "execute_result"
    }
   ],
   "source": [
    "n_classes = len(y_labels)\n",
    "n_classes"
   ]
  },
  {
   "cell_type": "code",
   "execution_count": 26,
   "metadata": {},
   "outputs": [],
   "source": [
    "# dir(pre_processor)"
   ]
  },
  {
   "cell_type": "markdown",
   "metadata": {},
   "source": [
    "# TRANSFER LEARNING"
   ]
  },
  {
   "cell_type": "markdown",
   "metadata": {},
   "source": [
    "## KTrain"
   ]
  },
  {
   "cell_type": "code",
   "execution_count": 27,
   "metadata": {},
   "outputs": [
    {
     "name": "stdout",
     "output_type": "stream",
     "text": [
      "fasttext: a fastText-like model (http://arxiv.org/pdf/1607.01759.pdf)\n",
      "logreg: logistic regression using a trainable Embedding layer\n",
      "nbsvm: NBSVM model (http://www.aclweb.org/anthology/P12-2018)\n",
      "bigru: Bidirectional GRU with pretrained word vectors (https://arxiv.org/abs/1712.09405)\n",
      "standard_gru: simple 2-layer GRU with randomly initialized embeddings\n",
      "bert: Bidirectional Encoder Representations from Transformers (https://arxiv.org/abs/1810.04805)\n"
     ]
    }
   ],
   "source": [
    "# available classifiers\n",
    "text.print_text_classifiers()"
   ]
  },
  {
   "cell_type": "markdown",
   "metadata": {},
   "source": [
    "## Instantiate learner"
   ]
  },
  {
   "cell_type": "code",
   "execution_count": 28,
   "metadata": {},
   "outputs": [
    {
     "name": "stdout",
     "output_type": "stream",
     "text": [
      "Is Multi-Label? True\n",
      "compiling word ID features...\n",
      "maxlen is 150\n",
      "done.\n"
     ]
    }
   ],
   "source": [
    "\"\"\"    \n",
    "Instantiate a classifier, and wrap it in a learner with data\n",
    "\"\"\"\n",
    "\n",
    "# load a pretrained model with a randomly initialized final Dense layer\n",
    "# freeze_layers=80\n",
    "# Source: https://github.com/amaiya/ktrain/blob/7213e3ac35b71e7cad8c188a494d2b310a871d61/ktrain/text/learner.py#L14\n",
    "model = text.text_classifier(name=learner_name, \n",
    "                             train_data=(x_train, y_train), \n",
    "                             preproc=pre_processor)"
   ]
  },
  {
   "cell_type": "code",
   "execution_count": 29,
   "metadata": {},
   "outputs": [],
   "source": [
    "\"\"\"    \n",
    "Wrap a classifier in a learner with data\n",
    "\"\"\"\n",
    "\n",
    "# wrap model and data in ktrain.Learner object\n",
    "# workers=1, use_multiprocessing=False, multigpu=False\n",
    "learner = ktrain.get_learner(model=model, \n",
    "                             train_data=(x_train, y_train), \n",
    "                             val_data=(x_test, y_test),\n",
    "                             batch_size=BATCH_SIZE)"
   ]
  },
  {
   "cell_type": "markdown",
   "metadata": {},
   "source": [
    "# TRAIN"
   ]
  },
  {
   "cell_type": "markdown",
   "metadata": {},
   "source": [
    "## Learning Rate"
   ]
  },
  {
   "cell_type": "code",
   "execution_count": 30,
   "metadata": {},
   "outputs": [],
   "source": [
    "# Reference: https://towardsdatascience.com/ktrain-a-lightweight-wrapper-for-keras-to-help-train-neural-networks-82851ba889c\n",
    "# Notebook: https://github.com/amaiya/ktrain/blob/master/tutorial-02-tuning-learning-rates.ipynb"
   ]
  },
  {
   "cell_type": "code",
   "execution_count": 31,
   "metadata": {},
   "outputs": [
    {
     "name": "stdout",
     "output_type": "stream",
     "text": [
      "simulating training for different learning rates... this may take a few moments...\n",
      "Epoch 1/1024\n",
      "  8664/119678 [=>............................] - ETA: 5:32 - loss: 0.6401 - acc: 0.6495\n",
      "\n",
      "done.\n",
      "Please invoke the Learner.lr_plot() method to visually inspect the loss plot to help identify the maximal learning rate associated with falling loss.\n"
     ]
    }
   ],
   "source": [
    "# briefly simulate training\n",
    "learner.lr_find()"
   ]
  },
  {
   "cell_type": "code",
   "execution_count": 32,
   "metadata": {},
   "outputs": [
    {
     "data": {
      "image/png": "[encoded data removed]",
      "text/plain": [
       "<Figure size 432x288 with 1 Axes>"
      ]
     },
     "metadata": {},
     "output_type": "display_data"
    }
   ],
   "source": [
    "# visually identify best learning rate\n",
    "learner.lr_plot()"
   ]
  },
  {
   "cell_type": "code",
   "execution_count": 33,
   "metadata": {},
   "outputs": [
    {
     "name": "stdout",
     "output_type": "stream",
     "text": [
      "will use:  learning_rate= 0.0007 num_epoch= 1\n"
     ]
    }
   ],
   "source": [
    "# Thus use learning rate \n",
    "learning_rate = 7 * pow(10, -4)\n",
    "num_epoch = 1\n",
    "print(\"will use: \", \"learning_rate=\", learning_rate, \"num_epoch=\", num_epoch)"
   ]
  },
  {
   "cell_type": "markdown",
   "metadata": {},
   "source": [
    "## Fit"
   ]
  },
  {
   "cell_type": "code",
   "execution_count": 34,
   "metadata": {},
   "outputs": [
    {
     "name": "stdout",
     "output_type": "stream",
     "text": [
      "\n",
      "\n",
      "begin training using triangular learning rate policy with max lr of 0.0007...\n",
      "Train on 119678 samples, validate on 39893 samples\n",
      "119678/119678 [==============================] - 358s 3ms/sample - loss: 0.1308 - acc: 0.9550 - val_loss: 0.0652 - val_acc: 0.9785\n"
     ]
    },
    {
     "data": {
      "text/plain": [
       "<tensorflow.python.keras.callbacks.History at 0x7f475c088e10>"
      ]
     },
     "execution_count": 34,
     "metadata": {},
     "output_type": "execute_result"
    }
   ],
   "source": [
    "# Many fit options: https://towardsdatascience.com/ktrain-a-lightweight-wrapper-for-keras-to-help-train-neural-networks-82851ba889c\n",
    "# 1cycle learning rate policy that linearly increases the learning rate for the first half of training \n",
    "# and then decreases the learning rate for the latter half:\n",
    "\n",
    "learner.autofit(learning_rate, num_epoch)"
   ]
  },
  {
   "cell_type": "markdown",
   "metadata": {},
   "source": [
    "# EVALUATE"
   ]
  },
  {
   "cell_type": "markdown",
   "metadata": {},
   "source": [
    "## ROC, AUC Functions"
   ]
  },
  {
   "cell_type": "code",
   "execution_count": 35,
   "metadata": {},
   "outputs": [],
   "source": [
    "import matplotlib.pyplot as plt\n",
    "from itertools import cycle\n",
    "\n",
    "from sklearn import svm, datasets\n",
    "from sklearn.metrics import roc_curve, auc\n",
    "from sklearn.model_selection import train_test_split\n",
    "from sklearn.preprocessing import label_binarize\n",
    "from sklearn.multiclass import OneVsRestClassifier\n",
    "from scipy import interp\n",
    "from sklearn.metrics import roc_auc_score\n"
   ]
  },
  {
   "cell_type": "code",
   "execution_count": 36,
   "metadata": {},
   "outputs": [],
   "source": [
    "def class_performance_aggregation(y_test, y_score, n_classes):\n",
    "    fpr = dict()\n",
    "    tpr = dict()\n",
    "    roc_auc = dict()\n",
    "    for i in range(n_classes):\n",
    "        fpr[i], tpr[i], _ = roc_curve(y_test[:, i], y_score[:, i])\n",
    "        roc_auc[i] = auc(fpr[i], tpr[i])\n",
    "\n",
    "    # Compute micro-average ROC curve and ROC area\n",
    "    fpr[\"micro\"], tpr[\"micro\"], _ = roc_curve(y_test.ravel(), y_score.ravel())\n",
    "    roc_auc[\"micro\"] = auc(fpr[\"micro\"], tpr[\"micro\"])\n",
    "    \n",
    "    return roc_auc, fpr, tpr"
   ]
  },
  {
   "cell_type": "code",
   "execution_count": 37,
   "metadata": {},
   "outputs": [],
   "source": [
    "def multiclass_performance_aggregation(fpr, tpr, n_classes):\n",
    "    # First aggregate all false positive rates\n",
    "    all_fpr = np.unique(np.concatenate([fpr[i] for i in range(n_classes)]))\n",
    "\n",
    "    # Then interpolate all ROC curves at this points\n",
    "    mean_tpr = np.zeros_like(all_fpr)\n",
    "    for i in range(n_classes):\n",
    "        mean_tpr += interp(all_fpr, fpr[i], tpr[i])\n",
    "\n",
    "    # Finally average it and compute AUC\n",
    "    mean_tpr /= n_classes\n",
    "\n",
    "    # Compute macro-average ROC curve and ROC area    \n",
    "    fpr[\"macro\"] = all_fpr\n",
    "    tpr[\"macro\"] = mean_tpr\n",
    "    roc_auc[\"macro\"] = auc(fpr[\"macro\"], tpr[\"macro\"])\n",
    "    \n",
    "    return roc_auc, fpr, tpr"
   ]
  },
  {
   "cell_type": "code",
   "execution_count": 38,
   "metadata": {},
   "outputs": [],
   "source": [
    "def plot_multiclass_performance(fpr, tpr, roc_auc, n_classes):\n",
    "    \n",
    "    plt.figure()\n",
    "    line_width = 2\n",
    "    \n",
    "#     plt.plot(fpr[\"micro\"], tpr[\"micro\"],\n",
    "#              label='micro-average ROC curve (area = {0:0.2f})'\n",
    "#                    ''.format(roc_auc[\"micro\"]),\n",
    "#              color='deeppink', linestyle=':', linewidth=4)\n",
    "\n",
    "#     plt.plot(fpr[\"macro\"], tpr[\"macro\"],\n",
    "#              label='macro-average ROC curve (area = {0:0.2f})'\n",
    "#                    ''.format(roc_auc[\"macro\"]),\n",
    "#              color='navy', linestyle=':', linewidth=4)\n",
    "\n",
    "    colors = cycle(['aqua', 'darkorange', 'cornflowerblue'])\n",
    "    for i, color in zip(range(n_classes), colors):\n",
    "        plt.plot(fpr[i], tpr[i], color=color, lw=line_width,\n",
    "                 label='ROC curve of class {0} (area = {1:0.2f})'\n",
    "                 ''.format(i, roc_auc[i]))\n",
    "\n",
    "    plt.plot([0, 1], [0, 1], 'k--', lw=line_width)\n",
    "    plt.xlim([0.0, 1.0])\n",
    "    plt.ylim([0.0, 1.05])\n",
    "    plt.xlabel('False Positive Rate')\n",
    "    plt.ylabel('True Positive Rate')\n",
    "    plt.title('Some extension of Receiver operating characteristic to multi-class')\n",
    "    plt.legend(loc=\"lower right\")\n",
    "    plt.show()"
   ]
  },
  {
   "cell_type": "markdown",
   "metadata": {},
   "source": [
    "## Class evaluation"
   ]
  },
  {
   "cell_type": "code",
   "execution_count": 39,
   "metadata": {},
   "outputs": [
    {
     "name": "stdout",
     "output_type": "stream",
     "text": [
      "Receiver Operating Characteristic: Area Under the Curve score: 0.953205\n"
     ]
    }
   ],
   "source": [
    "y_pred = learner.model.predict(x_test, verbose=0)\n",
    "auc_score = roc_auc_score(y_test, y_pred)\n",
    "\n",
    "print(\"Receiver Operating Characteristic: Area Under the Curve score: %.6f\" % (auc_score))"
   ]
  },
  {
   "cell_type": "code",
   "execution_count": 40,
   "metadata": {},
   "outputs": [
    {
     "data": {
      "image/png": "[encoded data removed]",
      "text/plain": [
       "<Figure size 432x288 with 1 Axes>"
      ]
     },
     "metadata": {},
     "output_type": "display_data"
    }
   ],
   "source": [
    "roc_auc, fpr, tpr = class_performance_aggregation(y_test, y_pred, n_classes)\n",
    "\n",
    "roc_auc, fpr, tpr = multiclass_performance_aggregation(fpr, tpr, n_classes)\n",
    "\n",
    "plot_multiclass_performance(fpr, tpr, roc_auc, n_classes)"
   ]
  },
  {
   "cell_type": "markdown",
   "metadata": {},
   "source": [
    "# PREDICT"
   ]
  },
  {
   "cell_type": "code",
   "execution_count": 41,
   "metadata": {},
   "outputs": [],
   "source": [
    "predictor = ktrain.get_predictor(learner.model, pre_processor)"
   ]
  },
  {
   "cell_type": "markdown",
   "metadata": {},
   "source": [
    "# ERROR ANALYSIS"
   ]
  },
  {
   "cell_type": "code",
   "execution_count": 42,
   "metadata": {},
   "outputs": [],
   "source": [
    "input_texts = {}\n",
    "pred_dictions = {}"
   ]
  },
  {
   "cell_type": "code",
   "execution_count": 43,
   "metadata": {},
   "outputs": [],
   "source": [
    "if data_set == 'jigsaw':\n",
    "    input_texts[0] = [\"If you don't stop immediately, I will kill you.\"]\n",
    "    input_texts[1] = [\"Okay - I'm calling it a night. See you tomorrow.\"]\n",
    "    input_texts[2] = [\"You have a really ugly face.\"]\n",
    "if data_set == 'casetext':\n",
    "    input_texts[0] = [\"Widomski failed to demonstrate that OCCC's explanation for its decision to bring disciplinary proceedings against him was pretext for retaliation. “Claims for retaliation [under the ADA] are analyzed under the same burden-shifting framework established for Title VII cases.” Treglia v. Town of Manlius, 313 F.3d 713, 719 (2d Cir.2002). For substantially the reasons set forth in the District Court's Opinion and Order entered March 21, 2013, we agree that Widomski has not produced evidence that would permit a reasonable factfinder to conclude that the initiation of disciplinary proceedings against him was a pretext for retaliation. Contarino's good faith belief that Widomski fabricated two assignments constitutes a legitimate, nonretaliatory reason for bringing a disciplinary action against him. The burden having shifted back to Widomski to provide competent evidence of pretext, Widomski fails to raise a genuine factual dispute as to whether this explanation is false or otherwise pretextual. See Weinstock v. Columbia Univ., 224 F.3d 33, 42 (2d Cir.2000). CONCLUSION We have considered Widomski's remaining arguments and conclude that they are without merit. For the foregoing reasons, the judgment of the District Court is AFFIRMED.\"]"
   ]
  },
  {
   "cell_type": "code",
   "execution_count": 44,
   "metadata": {},
   "outputs": [
    {
     "name": "stdout",
     "output_type": "stream",
     "text": [
      "prediction= [[('toxic', 0.8339252), ('severe_toxic', 0.2443017), ('obscene', 0.6705859), ('threat', 0.13042082), ('insult', 0.5856317), ('identity_hate', 0.17763926)]]\n",
      "prediction= [[('toxic', 0.08226959), ('severe_toxic', 0.00024394026), ('obscene', 0.01626463), ('threat', 0.00049809605), ('insult', 0.023578612), ('identity_hate', 0.003449192)]]\n",
      "prediction= [[('toxic', 0.65548146), ('severe_toxic', 0.049851224), ('obscene', 0.3592043), ('threat', 0.020304885), ('insult', 0.3235748), ('identity_hate', 0.088493735)]]\n"
     ]
    }
   ],
   "source": [
    "for k, v in input_texts.items():\n",
    "    prediction = predictor.predict(v)\n",
    "    print(\"prediction=\", prediction)\n",
    "    pred_dictions[k] = prediction"
   ]
  },
  {
   "cell_type": "code",
   "execution_count": 45,
   "metadata": {},
   "outputs": [
    {
     "name": "stdout",
     "output_type": "stream",
     "text": [
      "0 input_texts= [\"If you don't stop immediately, I will kill you.\"]\n",
      "0 predictions= [[('toxic', 0.8339252), ('severe_toxic', 0.2443017), ('obscene', 0.6705859), ('threat', 0.13042082), ('insult', 0.5856317), ('identity_hate', 0.17763926)]]\n",
      "1 input_texts= [\"Okay - I'm calling it a night. See you tomorrow.\"]\n",
      "1 predictions= [[('toxic', 0.08226959), ('severe_toxic', 0.00024394026), ('obscene', 0.01626463), ('threat', 0.00049809605), ('insult', 0.023578612), ('identity_hate', 0.003449192)]]\n",
      "2 input_texts= ['You have a really ugly face.']\n",
      "2 predictions= [[('toxic', 0.65548146), ('severe_toxic', 0.049851224), ('obscene', 0.3592043), ('threat', 0.020304885), ('insult', 0.3235748), ('identity_hate', 0.088493735)]]\n"
     ]
    }
   ],
   "source": [
    "for i in range(len(input_texts)):  \n",
    "    print(i, \"input_texts=\", input_texts[i])\n",
    "    print(i, \"predictions=\", pred_dictions[i])"
   ]
  },
  {
   "cell_type": "markdown",
   "metadata": {},
   "source": [
    "# MODEL SAVE, LOAD"
   ]
  },
  {
   "cell_type": "code",
   "execution_count": 46,
   "metadata": {},
   "outputs": [],
   "source": [
    "predictor.save(NLP_ROOT + 'multilabel_detector')\n",
    "predictor = ktrain.load_predictor(NLP_ROOT + 'multilabel_detector')"
   ]
  },
  {
   "cell_type": "code",
   "execution_count": 47,
   "metadata": {},
   "outputs": [
    {
     "data": {
      "text/plain": [
       "[[('toxic', 0.8339252),\n",
       "  ('severe_toxic', 0.2443017),\n",
       "  ('obscene', 0.6705859),\n",
       "  ('threat', 0.13042082),\n",
       "  ('insult', 0.5856317),\n",
       "  ('identity_hate', 0.17763926)]]"
      ]
     },
     "execution_count": 47,
     "metadata": {},
     "output_type": "execute_result"
    }
   ],
   "source": [
    "predictor.predict(input_texts[0])"
   ]
  },
  {
   "cell_type": "markdown",
   "metadata": {},
   "source": [
    "# REFERENCES"
   ]
  },
  {
   "cell_type": "code",
   "execution_count": 48,
   "metadata": {},
   "outputs": [],
   "source": [
    "# Blog: IMDB https://towardsdatascience.com/bert-text-classification-in-3-lines-of-code-using-keras-264db7e7a358\n",
    "# Demo: IMDB https://colab.research.google.com/drive/18SVeIFXWCiA9HL4WVCAFxlfH59ez6atc#scrollTo=p5lJ5jXpqtM9\n",
    "# Demo: Newsgroup https://colab.research.google.com/drive/1AH3fkKiEqBpVpO5ua00scp7zcHs5IDLK"
   ]
  },
  {
   "cell_type": "code",
   "execution_count": null,
   "metadata": {},
   "outputs": [],
   "source": []
  }
 ],
 "metadata": {
  "kernelspec": {
   "display_name": "conda_tensorflow_p36",
   "language": "python",
   "name": "conda_tensorflow_p36"
  },
  "language_info": {
   "codemirror_mode": {
    "name": "ipython",
    "version": 3
   },
   "file_extension": ".py",
   "mimetype": "text/x-python",
   "name": "python",
   "nbconvert_exporter": "python",
   "pygments_lexer": "ipython3",
   "version": "3.6.5"
  }
 },
 "nbformat": 4,
 "nbformat_minor": 2
}
