{
 "cells": [
  {
   "cell_type": "markdown",
   "metadata": {},
   "source": [
    "# SUMMARY"
   ]
  },
  {
   "cell_type": "markdown",
   "metadata": {},
   "source": [
    "## JigSaw: Toxic Online Comments"
   ]
  },
  {
   "cell_type": "code",
   "execution_count": 1,
   "metadata": {},
   "outputs": [],
   "source": [
    "# Kaggle: https://www.kaggle.com/c/jigsaw-toxic-comment-classification-challenge\n",
    "# Notebook: https://nbviewer.jupyter.org/github/amaiya/ktrain/blob/master/tutorial-04-text-classification.ipynb"
   ]
  },
  {
   "cell_type": "markdown",
   "metadata": {},
   "source": [
    "# DEPENDENCIES"
   ]
  },
  {
   "cell_type": "markdown",
   "metadata": {},
   "source": [
    "## Import "
   ]
  },
  {
   "cell_type": "code",
   "execution_count": 2,
   "metadata": {},
   "outputs": [],
   "source": [
    "import os\n",
    "import collections\n",
    "import pandas as pd\n",
    "from datetime import datetime\n",
    "import numpy as np\n",
    "import json"
   ]
  },
  {
   "cell_type": "markdown",
   "metadata": {},
   "source": [
    "## Install"
   ]
  },
  {
   "cell_type": "code",
   "execution_count": 3,
   "metadata": {},
   "outputs": [
    {
     "name": "stdout",
     "output_type": "stream",
     "text": [
      "Requirement already satisfied: ktrain in /home/ec2-user/anaconda3/envs/tensorflow_p36/lib/python3.6/site-packages (0.17.2)\n",
      "Requirement already satisfied: syntok in /home/ec2-user/anaconda3/envs/tensorflow_p36/lib/python3.6/site-packages (from ktrain) (1.3.1)\n",
      "Requirement already satisfied: langdetect in /home/ec2-user/anaconda3/envs/tensorflow_p36/lib/python3.6/site-packages (from ktrain) (1.0.8)\n",
      "Requirement already satisfied: pandas>=1.0.1 in /home/ec2-user/anaconda3/envs/tensorflow_p36/lib/python3.6/site-packages (from ktrain) (1.0.3)\n",
      "Requirement already satisfied: cchardet==2.1.5 in /home/ec2-user/anaconda3/envs/tensorflow_p36/lib/python3.6/site-packages (from ktrain) (2.1.5)\n",
      "Requirement already satisfied: scipy==1.4.1 in /home/ec2-user/anaconda3/envs/tensorflow_p36/lib/python3.6/site-packages (from ktrain) (1.4.1)\n",
      "Requirement already satisfied: ipython in /home/ec2-user/anaconda3/envs/tensorflow_p36/lib/python3.6/site-packages (from ktrain) (7.13.0)\n",
      "Requirement already satisfied: tensorflow-datasets in /home/ec2-user/anaconda3/envs/tensorflow_p36/lib/python3.6/site-packages (from ktrain) (3.1.0)\n",
      "Requirement already satisfied: packaging in /home/ec2-user/anaconda3/envs/tensorflow_p36/lib/python3.6/site-packages (from ktrain) (20.3)\n",
      "Requirement already satisfied: seqeval in /home/ec2-user/anaconda3/envs/tensorflow_p36/lib/python3.6/site-packages (from ktrain) (0.0.12)\n",
      "Requirement already satisfied: whoosh in /home/ec2-user/anaconda3/envs/tensorflow_p36/lib/python3.6/site-packages (from ktrain) (2.7.4)\n",
      "Requirement already satisfied: jieba in /home/ec2-user/anaconda3/envs/tensorflow_p36/lib/python3.6/site-packages (from ktrain) (0.42.1)\n",
      "Requirement already satisfied: bokeh in /home/ec2-user/anaconda3/envs/tensorflow_p36/lib/python3.6/site-packages (from ktrain) (2.0.1)\n",
      "Requirement already satisfied: matplotlib>=3.0.0 in /home/ec2-user/anaconda3/envs/tensorflow_p36/lib/python3.6/site-packages (from ktrain) (3.2.1)\n",
      "Requirement already satisfied: joblib in /home/ec2-user/anaconda3/envs/tensorflow_p36/lib/python3.6/site-packages (from ktrain) (0.14.1)\n",
      "Requirement already satisfied: fastprogress>=0.1.21 in /home/ec2-user/anaconda3/envs/tensorflow_p36/lib/python3.6/site-packages (from ktrain) (0.2.3)\n",
      "Requirement already satisfied: requests in /home/ec2-user/anaconda3/envs/tensorflow_p36/lib/python3.6/site-packages (from ktrain) (2.23.0)\n",
      "Requirement already satisfied: tensorflow==2.1.0 in /home/ec2-user/anaconda3/envs/tensorflow_p36/lib/python3.6/site-packages (from ktrain) (2.1.0)\n",
      "Requirement already satisfied: transformers>=2.11.0 in /home/ec2-user/anaconda3/envs/tensorflow_p36/lib/python3.6/site-packages (from ktrain) (2.11.0)\n",
      "Requirement already satisfied: networkx>=2.3 in /home/ec2-user/anaconda3/envs/tensorflow_p36/lib/python3.6/site-packages (from ktrain) (2.4)\n",
      "Requirement already satisfied: scikit-learn==0.21.3 in /home/ec2-user/anaconda3/envs/tensorflow_p36/lib/python3.6/site-packages (from ktrain) (0.21.3)\n",
      "Requirement already satisfied: keras-bert>=0.81.0 in /home/ec2-user/anaconda3/envs/tensorflow_p36/lib/python3.6/site-packages (from ktrain) (0.84.0)\n",
      "Requirement already satisfied: regex in /home/ec2-user/anaconda3/envs/tensorflow_p36/lib/python3.6/site-packages (from syntok->ktrain) (2020.6.8)\n",
      "Requirement already satisfied: six in /home/ec2-user/anaconda3/envs/tensorflow_p36/lib/python3.6/site-packages (from langdetect->ktrain) (1.14.0)\n",
      "Requirement already satisfied: python-dateutil>=2.6.1 in /home/ec2-user/anaconda3/envs/tensorflow_p36/lib/python3.6/site-packages (from pandas>=1.0.1->ktrain) (2.8.1)\n",
      "Requirement already satisfied: pytz>=2017.2 in /home/ec2-user/anaconda3/envs/tensorflow_p36/lib/python3.6/site-packages (from pandas>=1.0.1->ktrain) (2019.3)\n",
      "Requirement already satisfied: numpy>=1.13.3 in /home/ec2-user/anaconda3/envs/tensorflow_p36/lib/python3.6/site-packages (from pandas>=1.0.1->ktrain) (1.18.1)\n",
      "Requirement already satisfied: pexpect; sys_platform != \"win32\" in /home/ec2-user/anaconda3/envs/tensorflow_p36/lib/python3.6/site-packages (from ipython->ktrain) (4.8.0)\n",
      "Requirement already satisfied: pickleshare in /home/ec2-user/anaconda3/envs/tensorflow_p36/lib/python3.6/site-packages (from ipython->ktrain) (0.7.5)\n",
      "Requirement already satisfied: setuptools>=18.5 in /home/ec2-user/anaconda3/envs/tensorflow_p36/lib/python3.6/site-packages (from ipython->ktrain) (46.1.3.post20200330)\n",
      "Requirement already satisfied: jedi>=0.10 in /home/ec2-user/anaconda3/envs/tensorflow_p36/lib/python3.6/site-packages (from ipython->ktrain) (0.15.2)\n",
      "Requirement already satisfied: prompt-toolkit!=3.0.0,!=3.0.1,<3.1.0,>=2.0.0 in /home/ec2-user/anaconda3/envs/tensorflow_p36/lib/python3.6/site-packages (from ipython->ktrain) (3.0.4)\n",
      "Requirement already satisfied: backcall in /home/ec2-user/anaconda3/envs/tensorflow_p36/lib/python3.6/site-packages (from ipython->ktrain) (0.1.0)\n",
      "Requirement already satisfied: decorator in /home/ec2-user/anaconda3/envs/tensorflow_p36/lib/python3.6/site-packages (from ipython->ktrain) (4.4.2)\n",
      "Requirement already satisfied: pygments in /home/ec2-user/anaconda3/envs/tensorflow_p36/lib/python3.6/site-packages (from ipython->ktrain) (2.6.1)\n",
      "Requirement already satisfied: traitlets>=4.2 in /home/ec2-user/anaconda3/envs/tensorflow_p36/lib/python3.6/site-packages (from ipython->ktrain) (4.3.3)\n",
      "Requirement already satisfied: dill in /home/ec2-user/anaconda3/envs/tensorflow_p36/lib/python3.6/site-packages (from tensorflow-datasets->ktrain) (0.3.2)\n",
      "Requirement already satisfied: future in /home/ec2-user/anaconda3/envs/tensorflow_p36/lib/python3.6/site-packages (from tensorflow-datasets->ktrain) (0.18.2)\n",
      "Requirement already satisfied: tensorflow-metadata in /home/ec2-user/anaconda3/envs/tensorflow_p36/lib/python3.6/site-packages (from tensorflow-datasets->ktrain) (0.22.2)\n",
      "Requirement already satisfied: absl-py in /home/ec2-user/anaconda3/envs/tensorflow_p36/lib/python3.6/site-packages (from tensorflow-datasets->ktrain) (0.9.0)\n",
      "Requirement already satisfied: termcolor in /home/ec2-user/anaconda3/envs/tensorflow_p36/lib/python3.6/site-packages (from tensorflow-datasets->ktrain) (1.1.0)\n",
      "Requirement already satisfied: wrapt in /home/ec2-user/anaconda3/envs/tensorflow_p36/lib/python3.6/site-packages (from tensorflow-datasets->ktrain) (1.12.1)\n",
      "Requirement already satisfied: attrs>=18.1.0 in /home/ec2-user/anaconda3/envs/tensorflow_p36/lib/python3.6/site-packages (from tensorflow-datasets->ktrain) (19.3.0)\n",
      "Requirement already satisfied: tqdm in /home/ec2-user/anaconda3/envs/tensorflow_p36/lib/python3.6/site-packages (from tensorflow-datasets->ktrain) (4.44.1)\n",
      "Requirement already satisfied: promise in /home/ec2-user/anaconda3/envs/tensorflow_p36/lib/python3.6/site-packages (from tensorflow-datasets->ktrain) (2.3)\n",
      "Requirement already satisfied: protobuf>=3.6.1 in /home/ec2-user/anaconda3/envs/tensorflow_p36/lib/python3.6/site-packages (from tensorflow-datasets->ktrain) (3.12.2)\n",
      "Requirement already satisfied: pyparsing>=2.0.2 in /home/ec2-user/anaconda3/envs/tensorflow_p36/lib/python3.6/site-packages (from packaging->ktrain) (2.4.6)\n",
      "Requirement already satisfied: Keras>=2.2.4 in /home/ec2-user/anaconda3/envs/tensorflow_p36/lib/python3.6/site-packages (from seqeval->ktrain) (2.2.4)\n",
      "Requirement already satisfied: typing-extensions>=3.7.4 in /home/ec2-user/anaconda3/envs/tensorflow_p36/lib/python3.6/site-packages (from bokeh->ktrain) (3.7.4.1)\n",
      "Requirement already satisfied: Jinja2>=2.7 in /home/ec2-user/anaconda3/envs/tensorflow_p36/lib/python3.6/site-packages (from bokeh->ktrain) (2.11.1)\n",
      "Requirement already satisfied: PyYAML>=3.10 in /home/ec2-user/anaconda3/envs/tensorflow_p36/lib/python3.6/site-packages (from bokeh->ktrain) (5.3.1)\n",
      "Requirement already satisfied: pillow>=4.0 in /home/ec2-user/anaconda3/envs/tensorflow_p36/lib/python3.6/site-packages (from bokeh->ktrain) (7.0.0)\n",
      "Requirement already satisfied: tornado>=5 in /home/ec2-user/anaconda3/envs/tensorflow_p36/lib/python3.6/site-packages (from bokeh->ktrain) (6.0.4)\n",
      "Requirement already satisfied: kiwisolver>=1.0.1 in /home/ec2-user/anaconda3/envs/tensorflow_p36/lib/python3.6/site-packages (from matplotlib>=3.0.0->ktrain) (1.1.0)\n",
      "Requirement already satisfied: cycler>=0.10 in /home/ec2-user/anaconda3/envs/tensorflow_p36/lib/python3.6/site-packages (from matplotlib>=3.0.0->ktrain) (0.10.0)\n",
      "Requirement already satisfied: chardet<4,>=3.0.2 in /home/ec2-user/anaconda3/envs/tensorflow_p36/lib/python3.6/site-packages (from requests->ktrain) (3.0.4)\n",
      "Requirement already satisfied: idna<3,>=2.5 in /home/ec2-user/anaconda3/envs/tensorflow_p36/lib/python3.6/site-packages (from requests->ktrain) (2.9)\n",
      "Requirement already satisfied: urllib3!=1.25.0,!=1.25.1,<1.26,>=1.21.1 in /home/ec2-user/anaconda3/envs/tensorflow_p36/lib/python3.6/site-packages (from requests->ktrain) (1.25.8)\n",
      "Requirement already satisfied: certifi>=2017.4.17 in /home/ec2-user/anaconda3/envs/tensorflow_p36/lib/python3.6/site-packages (from requests->ktrain) (2020.4.5.2)\n",
      "Requirement already satisfied: wheel>=0.26; python_version >= \"3\" in /home/ec2-user/anaconda3/envs/tensorflow_p36/lib/python3.6/site-packages (from tensorflow==2.1.0->ktrain) (0.34.2)\n",
      "Requirement already satisfied: tensorflow-estimator<2.2.0,>=2.1.0rc0 in /home/ec2-user/anaconda3/envs/tensorflow_p36/lib/python3.6/site-packages (from tensorflow==2.1.0->ktrain) (2.1.0)\n",
      "Requirement already satisfied: tensorboard<2.2.0,>=2.1.0 in /home/ec2-user/anaconda3/envs/tensorflow_p36/lib/python3.6/site-packages (from tensorflow==2.1.0->ktrain) (2.1.1)\n",
      "Requirement already satisfied: grpcio>=1.8.6 in /home/ec2-user/anaconda3/envs/tensorflow_p36/lib/python3.6/site-packages (from tensorflow==2.1.0->ktrain) (1.27.2)\n",
      "Requirement already satisfied: keras-applications>=1.0.8 in /home/ec2-user/anaconda3/envs/tensorflow_p36/lib/python3.6/site-packages (from tensorflow==2.1.0->ktrain) (1.0.8)\n"
     ]
    },
    {
     "name": "stdout",
     "output_type": "stream",
     "text": [
      "Requirement already satisfied: gast==0.2.2 in /home/ec2-user/anaconda3/envs/tensorflow_p36/lib/python3.6/site-packages (from tensorflow==2.1.0->ktrain) (0.2.2)\n",
      "Requirement already satisfied: google-pasta>=0.1.6 in /home/ec2-user/anaconda3/envs/tensorflow_p36/lib/python3.6/site-packages (from tensorflow==2.1.0->ktrain) (0.2.0)\n",
      "Requirement already satisfied: keras-preprocessing>=1.1.0 in /home/ec2-user/anaconda3/envs/tensorflow_p36/lib/python3.6/site-packages (from tensorflow==2.1.0->ktrain) (1.1.2)\n",
      "Requirement already satisfied: opt-einsum>=2.3.2 in /home/ec2-user/anaconda3/envs/tensorflow_p36/lib/python3.6/site-packages (from tensorflow==2.1.0->ktrain) (3.2.1)\n",
      "Requirement already satisfied: astor>=0.6.0 in /home/ec2-user/anaconda3/envs/tensorflow_p36/lib/python3.6/site-packages (from tensorflow==2.1.0->ktrain) (0.8.1)\n",
      "Requirement already satisfied: sacremoses in /home/ec2-user/anaconda3/envs/tensorflow_p36/lib/python3.6/site-packages (from transformers>=2.11.0->ktrain) (0.0.43)\n",
      "Requirement already satisfied: tokenizers==0.7.0 in /home/ec2-user/anaconda3/envs/tensorflow_p36/lib/python3.6/site-packages (from transformers>=2.11.0->ktrain) (0.7.0)\n",
      "Requirement already satisfied: dataclasses; python_version < \"3.7\" in /home/ec2-user/anaconda3/envs/tensorflow_p36/lib/python3.6/site-packages (from transformers>=2.11.0->ktrain) (0.7)\n",
      "Requirement already satisfied: filelock in /home/ec2-user/anaconda3/envs/tensorflow_p36/lib/python3.6/site-packages (from transformers>=2.11.0->ktrain) (3.0.12)\n",
      "Requirement already satisfied: sentencepiece in /home/ec2-user/anaconda3/envs/tensorflow_p36/lib/python3.6/site-packages (from transformers>=2.11.0->ktrain) (0.1.91)\n",
      "Requirement already satisfied: keras-transformer>=0.37.0 in /home/ec2-user/anaconda3/envs/tensorflow_p36/lib/python3.6/site-packages (from keras-bert>=0.81.0->ktrain) (0.37.0)\n",
      "Requirement already satisfied: ptyprocess>=0.5 in /home/ec2-user/anaconda3/envs/tensorflow_p36/lib/python3.6/site-packages (from pexpect; sys_platform != \"win32\"->ipython->ktrain) (0.6.0)\n",
      "Requirement already satisfied: parso>=0.5.2 in /home/ec2-user/anaconda3/envs/tensorflow_p36/lib/python3.6/site-packages (from jedi>=0.10->ipython->ktrain) (0.5.2)\n",
      "Requirement already satisfied: wcwidth in /home/ec2-user/anaconda3/envs/tensorflow_p36/lib/python3.6/site-packages (from prompt-toolkit!=3.0.0,!=3.0.1,<3.1.0,>=2.0.0->ipython->ktrain) (0.1.9)\n",
      "Requirement already satisfied: ipython-genutils in /home/ec2-user/anaconda3/envs/tensorflow_p36/lib/python3.6/site-packages (from traitlets>=4.2->ipython->ktrain) (0.2.0)\n",
      "Requirement already satisfied: googleapis-common-protos in /home/ec2-user/anaconda3/envs/tensorflow_p36/lib/python3.6/site-packages (from tensorflow-metadata->tensorflow-datasets->ktrain) (1.52.0)\n",
      "Requirement already satisfied: h5py in /home/ec2-user/anaconda3/envs/tensorflow_p36/lib/python3.6/site-packages (from Keras>=2.2.4->seqeval->ktrain) (2.10.0)\n",
      "Requirement already satisfied: MarkupSafe>=0.23 in /home/ec2-user/anaconda3/envs/tensorflow_p36/lib/python3.6/site-packages (from Jinja2>=2.7->bokeh->ktrain) (1.1.1)\n",
      "Requirement already satisfied: google-auth<2,>=1.6.3 in /home/ec2-user/anaconda3/envs/tensorflow_p36/lib/python3.6/site-packages (from tensorboard<2.2.0,>=2.1.0->tensorflow==2.1.0->ktrain) (1.18.0)\n",
      "Requirement already satisfied: markdown>=2.6.8 in /home/ec2-user/anaconda3/envs/tensorflow_p36/lib/python3.6/site-packages (from tensorboard<2.2.0,>=2.1.0->tensorflow==2.1.0->ktrain) (3.2.2)\n",
      "Requirement already satisfied: werkzeug>=0.11.15 in /home/ec2-user/anaconda3/envs/tensorflow_p36/lib/python3.6/site-packages (from tensorboard<2.2.0,>=2.1.0->tensorflow==2.1.0->ktrain) (1.0.1)\n",
      "Requirement already satisfied: google-auth-oauthlib<0.5,>=0.4.1 in /home/ec2-user/anaconda3/envs/tensorflow_p36/lib/python3.6/site-packages (from tensorboard<2.2.0,>=2.1.0->tensorflow==2.1.0->ktrain) (0.4.1)\n",
      "Requirement already satisfied: click in /home/ec2-user/anaconda3/envs/tensorflow_p36/lib/python3.6/site-packages (from sacremoses->transformers>=2.11.0->ktrain) (7.1.1)\n",
      "Requirement already satisfied: keras-embed-sim>=0.7.0 in /home/ec2-user/anaconda3/envs/tensorflow_p36/lib/python3.6/site-packages (from keras-transformer>=0.37.0->keras-bert>=0.81.0->ktrain) (0.7.0)\n",
      "Requirement already satisfied: keras-pos-embd>=0.11.0 in /home/ec2-user/anaconda3/envs/tensorflow_p36/lib/python3.6/site-packages (from keras-transformer>=0.37.0->keras-bert>=0.81.0->ktrain) (0.11.0)\n",
      "Requirement already satisfied: keras-position-wise-feed-forward>=0.6.0 in /home/ec2-user/anaconda3/envs/tensorflow_p36/lib/python3.6/site-packages (from keras-transformer>=0.37.0->keras-bert>=0.81.0->ktrain) (0.6.0)\n",
      "Requirement already satisfied: keras-multi-head>=0.27.0 in /home/ec2-user/anaconda3/envs/tensorflow_p36/lib/python3.6/site-packages (from keras-transformer>=0.37.0->keras-bert>=0.81.0->ktrain) (0.27.0)\n",
      "Requirement already satisfied: keras-layer-normalization>=0.14.0 in /home/ec2-user/anaconda3/envs/tensorflow_p36/lib/python3.6/site-packages (from keras-transformer>=0.37.0->keras-bert>=0.81.0->ktrain) (0.14.0)\n",
      "Requirement already satisfied: pyasn1-modules>=0.2.1 in /home/ec2-user/anaconda3/envs/tensorflow_p36/lib/python3.6/site-packages (from google-auth<2,>=1.6.3->tensorboard<2.2.0,>=2.1.0->tensorflow==2.1.0->ktrain) (0.2.8)\n",
      "Requirement already satisfied: rsa<5,>=3.1.4; python_version >= \"3\" in /home/ec2-user/anaconda3/envs/tensorflow_p36/lib/python3.6/site-packages (from google-auth<2,>=1.6.3->tensorboard<2.2.0,>=2.1.0->tensorflow==2.1.0->ktrain) (3.4.2)\n",
      "Requirement already satisfied: cachetools<5.0,>=2.0.0 in /home/ec2-user/anaconda3/envs/tensorflow_p36/lib/python3.6/site-packages (from google-auth<2,>=1.6.3->tensorboard<2.2.0,>=2.1.0->tensorflow==2.1.0->ktrain) (4.1.0)\n",
      "Requirement already satisfied: importlib-metadata; python_version < \"3.8\" in /home/ec2-user/anaconda3/envs/tensorflow_p36/lib/python3.6/site-packages (from markdown>=2.6.8->tensorboard<2.2.0,>=2.1.0->tensorflow==2.1.0->ktrain) (1.5.0)\n",
      "Requirement already satisfied: requests-oauthlib>=0.7.0 in /home/ec2-user/anaconda3/envs/tensorflow_p36/lib/python3.6/site-packages (from google-auth-oauthlib<0.5,>=0.4.1->tensorboard<2.2.0,>=2.1.0->tensorflow==2.1.0->ktrain) (1.3.0)\n",
      "Requirement already satisfied: keras-self-attention==0.46.0 in /home/ec2-user/anaconda3/envs/tensorflow_p36/lib/python3.6/site-packages (from keras-multi-head>=0.27.0->keras-transformer>=0.37.0->keras-bert>=0.81.0->ktrain) (0.46.0)\n",
      "Requirement already satisfied: pyasn1<0.5.0,>=0.4.6 in /home/ec2-user/anaconda3/envs/tensorflow_p36/lib/python3.6/site-packages (from pyasn1-modules>=0.2.1->google-auth<2,>=1.6.3->tensorboard<2.2.0,>=2.1.0->tensorflow==2.1.0->ktrain) (0.4.8)\n",
      "Requirement already satisfied: zipp>=0.5 in /home/ec2-user/anaconda3/envs/tensorflow_p36/lib/python3.6/site-packages (from importlib-metadata; python_version < \"3.8\"->markdown>=2.6.8->tensorboard<2.2.0,>=2.1.0->tensorflow==2.1.0->ktrain) (2.2.0)\n",
      "Requirement already satisfied: oauthlib>=3.0.0 in /home/ec2-user/anaconda3/envs/tensorflow_p36/lib/python3.6/site-packages (from requests-oauthlib>=0.7.0->google-auth-oauthlib<0.5,>=0.4.1->tensorboard<2.2.0,>=2.1.0->tensorflow==2.1.0->ktrain) (3.1.0)\n",
      "\u001b[33mWARNING: You are using pip version 20.0.2; however, version 20.1.1 is available.\n",
      "You should consider upgrading via the '/home/ec2-user/anaconda3/envs/tensorflow_p36/bin/python -m pip install --upgrade pip' command.\u001b[0m\n"
     ]
    }
   ],
   "source": [
    "# ktrain is a lightweight wrapper for the deep learning library Keras\n",
    "# https://towardsdatascience.com/ktrain-a-lightweight-wrapper-for-keras-to-help-train-neural-networks-82851ba889c\n",
    "# https://towardsdatascience.com/ktrain-a-lightweight-wrapper-for-keras-to-help-train-neural-networks-82851ba889c\n",
    "# https://nbviewer.jupyter.org/github/amaiya/ktrain/blob/master/tutorial-04-text-classification.ipynb\n",
    "\n",
    "!pip install ktrain "
   ]
  },
  {
   "cell_type": "code",
   "execution_count": 4,
   "metadata": {},
   "outputs": [],
   "source": [
    "import ktrain\n",
    "\n",
    "from ktrain import text"
   ]
  },
  {
   "cell_type": "code",
   "execution_count": 5,
   "metadata": {},
   "outputs": [
    {
     "data": {
      "text/plain": [
       "'0.17.2'"
      ]
     },
     "execution_count": 5,
     "metadata": {},
     "output_type": "execute_result"
    }
   ],
   "source": [
    "ktrain.__version__"
   ]
  },
  {
   "cell_type": "markdown",
   "metadata": {},
   "source": [
    "# ENVIRONMENT"
   ]
  },
  {
   "cell_type": "markdown",
   "metadata": {},
   "source": [
    "## Global vars"
   ]
  },
  {
   "cell_type": "code",
   "execution_count": 6,
   "metadata": {},
   "outputs": [],
   "source": [
    "## model to use\n",
    "learner_name =  'bert' \n",
    "# learner_name =  'fasttext' \n",
    "\n",
    "## dataset to ue\n",
    "data_set = 'jigsaw'"
   ]
  },
  {
   "cell_type": "code",
   "execution_count": 7,
   "metadata": {},
   "outputs": [],
   "source": [
    "## path to data\n",
    "NLP_ROOT = '/home/ec2-user/SageMaker/efs/NLP/'\n",
    "JIGSAW_FOLDER = 'JigSaw/'\n",
    "JIGSAW_ROOT = './data/' # NLP_ROOT + JIGSAW_FOLDER\n",
    "\n",
    "NLP_ROOT = JIGSAW_ROOT\n",
    "    \n",
    "## max num of words to consider in vocabulary\n",
    "NUM_WORDS = 50000\n",
    "\n",
    "## each document can be of most <maxlen> words. 0 is used as padding ID.\n",
    "MAX_LEN = 150\n",
    "\n",
    "## batch_size based on recommendations from Google, depends on sequence_length\n",
    "# https://github.com/google-research/bert/blob/master/README.md\n",
    "BATCH_SIZE = 6\n",
    "\n",
    "## proportion of training to use for validation\n",
    "# if None, 10% of data will be used for validation\n",
    "VAL_PCT = None \n",
    "\n",
    "## size of multi-word phrases to consider: 2 will consider both 1-word phrases and 2-word phrases     \n",
    "NGRAM_RANGE = 1"
   ]
  },
  {
   "cell_type": "markdown",
   "metadata": {},
   "source": [
    "## Dataset vars"
   ]
  },
  {
   "cell_type": "code",
   "execution_count": 8,
   "metadata": {},
   "outputs": [
    {
     "name": "stdout",
     "output_type": "stream",
     "text": [
      "./data/train.csv ./data/test.csv\n"
     ]
    }
   ],
   "source": [
    "x_col_name = 'comment_text'\n",
    "y_labels = [\"toxic\", \"severe_toxic\", \"obscene\", \"threat\", \"insult\", \"identity_hate\"]\n",
    "TRAIN_PATH = JIGSAW_ROOT + 'train.csv'\n",
    "TEST_PATH = JIGSAW_ROOT + 'test.csv'\n",
    "print(TRAIN_PATH, TEST_PATH)"
   ]
  },
  {
   "cell_type": "markdown",
   "metadata": {},
   "source": [
    "# EXTRACT"
   ]
  },
  {
   "cell_type": "code",
   "execution_count": 9,
   "metadata": {},
   "outputs": [
    {
     "name": "stdout",
     "output_type": "stream",
     "text": [
      "train= (159571, 8)\n",
      "test= (153164, 2)\n"
     ]
    }
   ],
   "source": [
    "train = pd.read_csv(TRAIN_PATH)\n",
    "test = pd.read_csv(TEST_PATH)\n",
    "\n",
    "print(\"train=\", train.shape)\n",
    "print(\"test=\", test.shape)"
   ]
  },
  {
   "cell_type": "code",
   "execution_count": 10,
   "metadata": {},
   "outputs": [
    {
     "data": {
      "text/html": [
       "<div>\n",
       "<style scoped>\n",
       "    .dataframe tbody tr th:only-of-type {\n",
       "        vertical-align: middle;\n",
       "    }\n",
       "\n",
       "    .dataframe tbody tr th {\n",
       "        vertical-align: top;\n",
       "    }\n",
       "\n",
       "    .dataframe thead th {\n",
       "        text-align: right;\n",
       "    }\n",
       "</style>\n",
       "<table border=\"1\" class=\"dataframe\">\n",
       "  <thead>\n",
       "    <tr style=\"text-align: right;\">\n",
       "      <th></th>\n",
       "      <th>id</th>\n",
       "      <th>comment_text</th>\n",
       "      <th>toxic</th>\n",
       "      <th>severe_toxic</th>\n",
       "      <th>obscene</th>\n",
       "      <th>threat</th>\n",
       "      <th>insult</th>\n",
       "      <th>identity_hate</th>\n",
       "    </tr>\n",
       "  </thead>\n",
       "  <tbody>\n",
       "    <tr>\n",
       "      <th>0</th>\n",
       "      <td>0000997932d777bf</td>\n",
       "      <td>Explanation\\nWhy the edits made under my usern...</td>\n",
       "      <td>0</td>\n",
       "      <td>0</td>\n",
       "      <td>0</td>\n",
       "      <td>0</td>\n",
       "      <td>0</td>\n",
       "      <td>0</td>\n",
       "    </tr>\n",
       "    <tr>\n",
       "      <th>1</th>\n",
       "      <td>000103f0d9cfb60f</td>\n",
       "      <td>D'aww! He matches this background colour I'm s...</td>\n",
       "      <td>0</td>\n",
       "      <td>0</td>\n",
       "      <td>0</td>\n",
       "      <td>0</td>\n",
       "      <td>0</td>\n",
       "      <td>0</td>\n",
       "    </tr>\n",
       "    <tr>\n",
       "      <th>2</th>\n",
       "      <td>000113f07ec002fd</td>\n",
       "      <td>Hey man, I'm really not trying to edit war. It...</td>\n",
       "      <td>0</td>\n",
       "      <td>0</td>\n",
       "      <td>0</td>\n",
       "      <td>0</td>\n",
       "      <td>0</td>\n",
       "      <td>0</td>\n",
       "    </tr>\n",
       "    <tr>\n",
       "      <th>3</th>\n",
       "      <td>0001b41b1c6bb37e</td>\n",
       "      <td>\"\\nMore\\nI can't make any real suggestions on ...</td>\n",
       "      <td>0</td>\n",
       "      <td>0</td>\n",
       "      <td>0</td>\n",
       "      <td>0</td>\n",
       "      <td>0</td>\n",
       "      <td>0</td>\n",
       "    </tr>\n",
       "    <tr>\n",
       "      <th>4</th>\n",
       "      <td>0001d958c54c6e35</td>\n",
       "      <td>You, sir, are my hero. Any chance you remember...</td>\n",
       "      <td>0</td>\n",
       "      <td>0</td>\n",
       "      <td>0</td>\n",
       "      <td>0</td>\n",
       "      <td>0</td>\n",
       "      <td>0</td>\n",
       "    </tr>\n",
       "  </tbody>\n",
       "</table>\n",
       "</div>"
      ],
      "text/plain": [
       "                 id                                       comment_text  toxic  \\\n",
       "0  0000997932d777bf  Explanation\\nWhy the edits made under my usern...      0   \n",
       "1  000103f0d9cfb60f  D'aww! He matches this background colour I'm s...      0   \n",
       "2  000113f07ec002fd  Hey man, I'm really not trying to edit war. It...      0   \n",
       "3  0001b41b1c6bb37e  \"\\nMore\\nI can't make any real suggestions on ...      0   \n",
       "4  0001d958c54c6e35  You, sir, are my hero. Any chance you remember...      0   \n",
       "\n",
       "   severe_toxic  obscene  threat  insult  identity_hate  \n",
       "0             0        0       0       0              0  \n",
       "1             0        0       0       0              0  \n",
       "2             0        0       0       0              0  \n",
       "3             0        0       0       0              0  \n",
       "4             0        0       0       0              0  "
      ]
     },
     "execution_count": 10,
     "metadata": {},
     "output_type": "execute_result"
    }
   ],
   "source": [
    "train.head()\n",
    "# test.head()"
   ]
  },
  {
   "cell_type": "code",
   "execution_count": 11,
   "metadata": {},
   "outputs": [
    {
     "data": {
      "text/plain": [
       "\"Explanation\\nWhy the edits made under my username Hardcore Metallica Fan were reverted? They weren't vandalisms, just closure on some GAs after I voted at New York Dolls FAC. And please don't remove the template from the talk page since I'm retired now.89.205.38.27\""
      ]
     },
     "execution_count": 11,
     "metadata": {},
     "output_type": "execute_result"
    }
   ],
   "source": [
    "a_text = train[x_col_name][0]\n",
    "a_text"
   ]
  },
  {
   "cell_type": "code",
   "execution_count": 12,
   "metadata": {},
   "outputs": [
    {
     "data": {
      "text/plain": [
       "264"
      ]
     },
     "execution_count": 12,
     "metadata": {},
     "output_type": "execute_result"
    }
   ],
   "source": [
    "# Longer sequences are disproportionately expensive because attention is quadratic to the sequence length\n",
    "# Publication https://github.com/google-research/bert/blob/master/README.md\n",
    "# An approach https://github.com/google-research/bert/issues/27\n",
    "len(a_text)"
   ]
  },
  {
   "cell_type": "markdown",
   "metadata": {},
   "source": [
    "# TRANSFORM"
   ]
  },
  {
   "cell_type": "markdown",
   "metadata": {},
   "source": [
    "## Format data for learner"
   ]
  },
  {
   "cell_type": "code",
   "execution_count": 13,
   "metadata": {},
   "outputs": [
    {
     "name": "stdout",
     "output_type": "stream",
     "text": [
      "TRAIN_PATH= ./data/train.csv \n",
      "VAL_PCT= None \n",
      "x_col_name= comment_text \n",
      "y_labels= ['toxic', 'severe_toxic', 'obscene', 'threat', 'insult', 'identity_hate']\n",
      "NUM_WORDS= 50000 \n",
      "MAX_LEN= 150 \n",
      "NGRAM_RANGE= 1 \n",
      "preprocess_mode= bert\n"
     ]
    }
   ],
   "source": [
    "# BERT expects input data in a specific format, \n",
    "# with special tokens to mark the beginning ([CLS]) and separation/end of sentences ([SEP]). \n",
    "# Furthermore, we need to tokenize our text into tokens that correspond to BERT’s vocabulary.\n",
    "\"\"\"\n",
    "x_col_name: column containing the text\n",
    "y_labels: list of columns that are to be treated as labels\n",
    "learner_name: 'bert', 'fasttext'\n",
    "TRAIN_PATH: path to training set\n",
    "TEST_PATH: path to test set\n",
    "NUM_WORDS: max num of words to consider in vocabulary\n",
    "MAX_LEN: each document can be of most <maxlen> words. 0 is used as padding ID.\n",
    "Source: https://github.com/amaiya/ktrain/blob/7213e3ac35b71e7cad8c188a494d2b310a871d61/ktrain/text/data.py#L121\n",
    "\"\"\"\n",
    "\n",
    "### Additional texts_from_csv options:\n",
    "# preprocess_mode='standard' (normal tokenization) or 'bert' tokenization and preprocessing\n",
    "# encoding=None,  # auto-detected\n",
    "# lang=None,      # auto-detected\n",
    "# sep=',', random_state=None,       \n",
    "# verbose=1\n",
    "\n",
    "if learner_name == 'bert':\n",
    "    preprocess_mode = learner_name\n",
    "else:\n",
    "    preprocess_mode = 'standard'\n",
    "\n",
    "# print config    \n",
    "print(\"TRAIN_PATH=\", TRAIN_PATH, \"\\nVAL_PCT=\", VAL_PCT, \"\\nx_col_name=\", x_col_name, \"\\ny_labels=\", y_labels)\n",
    "print(\"NUM_WORDS=\", NUM_WORDS, \"\\nMAX_LEN=\", MAX_LEN, \"\\nNGRAM_RANGE=\", NGRAM_RANGE, \"\\npreprocess_mode=\", preprocess_mode)"
   ]
  },
  {
   "cell_type": "code",
   "execution_count": 14,
   "metadata": {},
   "outputs": [
    {
     "name": "stdout",
     "output_type": "stream",
     "text": [
      "detected encoding: utf-8 (if wrong, set manually)\n",
      "preprocessing train...\n",
      "language: en\n"
     ]
    },
    {
     "data": {
      "text/html": [
       "done."
      ],
      "text/plain": [
       "<IPython.core.display.HTML object>"
      ]
     },
     "metadata": {},
     "output_type": "display_data"
    },
    {
     "name": "stdout",
     "output_type": "stream",
     "text": [
      "Is Multi-Label? True\n",
      "preprocessing test...\n",
      "language: en\n"
     ]
    },
    {
     "data": {
      "text/html": [
       "done."
      ],
      "text/plain": [
       "<IPython.core.display.HTML object>"
      ]
     },
     "metadata": {},
     "output_type": "display_data"
    }
   ],
   "source": [
    "# return preprocessed the texts and the pre-processor    \n",
    "(x_train, y_train), (x_test, y_test), pre_processor = text.texts_from_csv(train_filepath=TRAIN_PATH,\n",
    "                                                                         val_pct=VAL_PCT, \n",
    "                                                                         text_column=x_col_name,\n",
    "                                                                         label_columns = y_labels,\n",
    "                                                                         max_features=NUM_WORDS, \n",
    "                                                                         maxlen=MAX_LEN,\n",
    "                                                                         ngram_range=NGRAM_RANGE,\n",
    "                                                                         preprocess_mode=preprocess_mode\n",
    "                                                                         )"
   ]
  },
  {
   "cell_type": "markdown",
   "metadata": {},
   "source": [
    "## Explore Transformed Input Data"
   ]
  },
  {
   "cell_type": "code",
   "execution_count": 15,
   "metadata": {},
   "outputs": [
    {
     "data": {
      "text/plain": [
       "array([[  101,  1000,  2000, ...,  9353, 13210,   102],\n",
       "       [  101,  2129,  2001, ...,     0,     0,     0],\n",
       "       [  101,  2045,  1045, ...,     0,     0,     0],\n",
       "       ...,\n",
       "       [  101,  2627,  8397, ...,     0,     0,     0],\n",
       "       [  101, 21358,  6444, ...,     0,     0,     0],\n",
       "       [  101,  3531, 20703, ...,     0,     0,     0]])"
      ]
     },
     "execution_count": 15,
     "metadata": {},
     "output_type": "execute_result"
    }
   ],
   "source": [
    "x_train[0]"
   ]
  },
  {
   "cell_type": "code",
   "execution_count": 16,
   "metadata": {},
   "outputs": [
    {
     "data": {
      "text/plain": [
       "array([[0, 0, 0, 0, 0, 0],\n",
       "       [0, 0, 0, 0, 0, 0],\n",
       "       [0, 0, 0, 0, 0, 0],\n",
       "       ...,\n",
       "       [0, 0, 0, 0, 0, 0],\n",
       "       [0, 0, 0, 0, 0, 0],\n",
       "       [0, 0, 0, 0, 0, 0]])"
      ]
     },
     "execution_count": 16,
     "metadata": {},
     "output_type": "execute_result"
    }
   ],
   "source": [
    "y_train"
   ]
  },
  {
   "cell_type": "code",
   "execution_count": 17,
   "metadata": {},
   "outputs": [
    {
     "data": {
      "text/plain": [
       "6"
      ]
     },
     "execution_count": 17,
     "metadata": {},
     "output_type": "execute_result"
    }
   ],
   "source": [
    "n_classes = len(y_labels)\n",
    "n_classes"
   ]
  },
  {
   "cell_type": "code",
   "execution_count": 18,
   "metadata": {},
   "outputs": [],
   "source": [
    "# dir(pre_processor)"
   ]
  },
  {
   "cell_type": "markdown",
   "metadata": {},
   "source": [
    "# TRANSFER LEARNING"
   ]
  },
  {
   "cell_type": "markdown",
   "metadata": {},
   "source": [
    "## KTrain"
   ]
  },
  {
   "cell_type": "code",
   "execution_count": 19,
   "metadata": {},
   "outputs": [
    {
     "name": "stdout",
     "output_type": "stream",
     "text": [
      "fasttext: a fastText-like model [http://arxiv.org/pdf/1607.01759.pdf]\n",
      "logreg: logistic regression using a trainable Embedding layer\n",
      "nbsvm: NBSVM model [http://www.aclweb.org/anthology/P12-2018]\n",
      "bigru: Bidirectional GRU with pretrained fasttext word vectors [https://fasttext.cc/docs/en/crawl-vectors.html]\n",
      "standard_gru: simple 2-layer GRU with randomly initialized embeddings\n",
      "bert: Bidirectional Encoder Representations from Transformers (BERT) [https://arxiv.org/abs/1810.04805]\n",
      "distilbert: distilled, smaller, and faster BERT from Hugging Face [https://arxiv.org/abs/1910.01108]\n"
     ]
    }
   ],
   "source": [
    "# available classifiers\n",
    "text.print_text_classifiers()"
   ]
  },
  {
   "cell_type": "markdown",
   "metadata": {},
   "source": [
    "## Instantiate learner"
   ]
  },
  {
   "cell_type": "code",
   "execution_count": 20,
   "metadata": {},
   "outputs": [
    {
     "name": "stdout",
     "output_type": "stream",
     "text": [
      "Is Multi-Label? True\n",
      "maxlen is 150\n",
      "done.\n"
     ]
    }
   ],
   "source": [
    "\"\"\"    \n",
    "Instantiate a classifier, and wrap it in a learner with data\n",
    "\"\"\"\n",
    "\n",
    "# load a pretrained model with a randomly initialized final Dense layer\n",
    "# freeze_layers=80\n",
    "# Source: https://github.com/amaiya/ktrain/blob/7213e3ac35b71e7cad8c188a494d2b310a871d61/ktrain/text/learner.py#L14\n",
    "model = text.text_classifier(name=learner_name, \n",
    "                             train_data=(x_train, y_train), \n",
    "                             preproc=pre_processor)"
   ]
  },
  {
   "cell_type": "code",
   "execution_count": 21,
   "metadata": {},
   "outputs": [],
   "source": [
    "\"\"\"    \n",
    "Wrap a classifier in a learner with data\n",
    "\"\"\"\n",
    "\n",
    "# wrap model and data in ktrain.Learner object\n",
    "# workers=1, use_multiprocessing=False, multigpu=False\n",
    "learner = ktrain.get_learner(model=model, \n",
    "                             train_data=(x_train, y_train), \n",
    "                             val_data=(x_test, y_test),\n",
    "                             batch_size=BATCH_SIZE)"
   ]
  },
  {
   "cell_type": "markdown",
   "metadata": {},
   "source": [
    "# TRAIN"
   ]
  },
  {
   "cell_type": "markdown",
   "metadata": {},
   "source": [
    "## Learning Rate"
   ]
  },
  {
   "cell_type": "code",
   "execution_count": 22,
   "metadata": {},
   "outputs": [],
   "source": [
    "# Reference: https://towardsdatascience.com/ktrain-a-lightweight-wrapper-for-keras-to-help-train-neural-networks-82851ba889c\n",
    "# Notebook: https://github.com/amaiya/ktrain/blob/master/tutorial-02-tuning-learning-rates.ipynb"
   ]
  },
  {
   "cell_type": "code",
   "execution_count": 23,
   "metadata": {},
   "outputs": [
    {
     "name": "stdout",
     "output_type": "stream",
     "text": [
      "simulating training for different learning rates... this may take a few moments...\n",
      "Train on 119678 samples\n",
      "Epoch 1/1024\n",
      "  7122/119678 [>.............................] - ETA: 1:05:30 - loss: 0.2717 - accuracy: 0.8960\n",
      "\n",
      "done.\n",
      "Please invoke the Learner.lr_plot() method to visually inspect the loss plot to help identify the maximal learning rate associated with falling loss.\n"
     ]
    }
   ],
   "source": [
    "# briefly simulate training\n",
    "learner.lr_find()"
   ]
  },
  {
   "cell_type": "code",
   "execution_count": 24,
   "metadata": {},
   "outputs": [
    {
     "data": {
      "image/png": "[encoded data removed]",
      "text/plain": [
       "<Figure size 432x288 with 1 Axes>"
      ]
     },
     "metadata": {
      "needs_background": "light"
     },
     "output_type": "display_data"
    }
   ],
   "source": [
    "# visually identify best learning rate\n",
    "learner.lr_plot()"
   ]
  },
  {
   "cell_type": "code",
   "execution_count": 25,
   "metadata": {},
   "outputs": [
    {
     "name": "stdout",
     "output_type": "stream",
     "text": [
      "will use:  learning_rate= 0.0001 num_epoch= 1\n"
     ]
    }
   ],
   "source": [
    "# Thus use learning rate \n",
    "learning_rate = 1 * pow(10, -4)\n",
    "num_epoch = 1\n",
    "print(\"will use: \", \"learning_rate=\", learning_rate, \"num_epoch=\", num_epoch)"
   ]
  },
  {
   "cell_type": "markdown",
   "metadata": {},
   "source": [
    "## Fit"
   ]
  },
  {
   "cell_type": "code",
   "execution_count": 26,
   "metadata": {},
   "outputs": [
    {
     "name": "stdout",
     "output_type": "stream",
     "text": [
      "\n",
      "\n",
      "begin training using triangular learning rate policy with max lr of 0.0001...\n",
      "Train on 119678 samples, validate on 39893 samples\n",
      "119678/119678 [==============================] - 4545s 38ms/sample - loss: 0.1206 - accuracy: 0.9672 - val_loss: 0.1414 - val_accuracy: 0.9632\n"
     ]
    },
    {
     "data": {
      "text/plain": [
       "<tensorflow.python.keras.callbacks.History at 0x7f48a05070b8>"
      ]
     },
     "execution_count": 26,
     "metadata": {},
     "output_type": "execute_result"
    }
   ],
   "source": [
    "# Many fit options: https://towardsdatascience.com/ktrain-a-lightweight-wrapper-for-keras-to-help-train-neural-networks-82851ba889c\n",
    "# 1cycle learning rate policy that linearly increases the learning rate for the first half of training \n",
    "# and then decreases the learning rate for the latter half:\n",
    "\n",
    "learner.autofit(learning_rate, num_epoch)"
   ]
  },
  {
   "cell_type": "markdown",
   "metadata": {},
   "source": [
    "# EVALUATE"
   ]
  },
  {
   "cell_type": "markdown",
   "metadata": {},
   "source": [
    "## ROC, AUC Functions"
   ]
  },
  {
   "cell_type": "code",
   "execution_count": 27,
   "metadata": {},
   "outputs": [],
   "source": [
    "import matplotlib.pyplot as plt\n",
    "from itertools import cycle\n",
    "\n",
    "from sklearn import svm, datasets\n",
    "from sklearn.metrics import roc_curve, auc\n",
    "from sklearn.model_selection import train_test_split\n",
    "from sklearn.preprocessing import label_binarize\n",
    "from sklearn.multiclass import OneVsRestClassifier\n",
    "from scipy import interp\n",
    "from sklearn.metrics import roc_auc_score\n"
   ]
  },
  {
   "cell_type": "code",
   "execution_count": 28,
   "metadata": {},
   "outputs": [],
   "source": [
    "def class_performance_aggregation(y_test, y_score, n_classes):\n",
    "    fpr = dict()\n",
    "    tpr = dict()\n",
    "    roc_auc = dict()\n",
    "    for i in range(n_classes):\n",
    "        fpr[i], tpr[i], _ = roc_curve(y_test[:, i], y_score[:, i])\n",
    "        roc_auc[i] = auc(fpr[i], tpr[i])\n",
    "\n",
    "    # Compute micro-average ROC curve and ROC area\n",
    "    fpr[\"micro\"], tpr[\"micro\"], _ = roc_curve(y_test.ravel(), y_score.ravel())\n",
    "    roc_auc[\"micro\"] = auc(fpr[\"micro\"], tpr[\"micro\"])\n",
    "    \n",
    "    return roc_auc, fpr, tpr"
   ]
  },
  {
   "cell_type": "code",
   "execution_count": 29,
   "metadata": {},
   "outputs": [],
   "source": [
    "def multiclass_performance_aggregation(fpr, tpr, n_classes):\n",
    "    # First aggregate all false positive rates\n",
    "    all_fpr = np.unique(np.concatenate([fpr[i] for i in range(n_classes)]))\n",
    "\n",
    "    # Then interpolate all ROC curves at this points\n",
    "    mean_tpr = np.zeros_like(all_fpr)\n",
    "    for i in range(n_classes):\n",
    "        mean_tpr += interp(all_fpr, fpr[i], tpr[i])\n",
    "\n",
    "    # Finally average it and compute AUC\n",
    "    mean_tpr /= n_classes\n",
    "\n",
    "    # Compute macro-average ROC curve and ROC area    \n",
    "    fpr[\"macro\"] = all_fpr\n",
    "    tpr[\"macro\"] = mean_tpr\n",
    "    roc_auc[\"macro\"] = auc(fpr[\"macro\"], tpr[\"macro\"])\n",
    "    \n",
    "    return roc_auc, fpr, tpr"
   ]
  },
  {
   "cell_type": "code",
   "execution_count": 30,
   "metadata": {},
   "outputs": [],
   "source": [
    "def plot_multiclass_performance(fpr, tpr, roc_auc, n_classes):\n",
    "    \n",
    "    plt.figure()\n",
    "    line_width = 2\n",
    "    \n",
    "#     plt.plot(fpr[\"micro\"], tpr[\"micro\"],\n",
    "#              label='micro-average ROC curve (area = {0:0.2f})'\n",
    "#                    ''.format(roc_auc[\"micro\"]),\n",
    "#              color='deeppink', linestyle=':', linewidth=4)\n",
    "\n",
    "#     plt.plot(fpr[\"macro\"], tpr[\"macro\"],\n",
    "#              label='macro-average ROC curve (area = {0:0.2f})'\n",
    "#                    ''.format(roc_auc[\"macro\"]),\n",
    "#              color='navy', linestyle=':', linewidth=4)\n",
    "\n",
    "    colors = cycle(['aqua', 'darkorange', 'cornflowerblue'])\n",
    "    for i, color in zip(range(n_classes), colors):\n",
    "        plt.plot(fpr[i], tpr[i], color=color, lw=line_width,\n",
    "                 label='ROC curve of class {0} (area = {1:0.2f})'\n",
    "                 ''.format(i, roc_auc[i]))\n",
    "\n",
    "    plt.plot([0, 1], [0, 1], 'k--', lw=line_width)\n",
    "    plt.xlim([0.0, 1.0])\n",
    "    plt.ylim([0.0, 1.05])\n",
    "    plt.xlabel('False Positive Rate')\n",
    "    plt.ylabel('True Positive Rate')\n",
    "    plt.title('Some extension of Receiver operating characteristic to multi-class')\n",
    "    plt.legend(loc=\"lower right\")\n",
    "    plt.show()"
   ]
  },
  {
   "cell_type": "markdown",
   "metadata": {},
   "source": [
    "## Class evaluation"
   ]
  },
  {
   "cell_type": "code",
   "execution_count": 31,
   "metadata": {},
   "outputs": [
    {
     "name": "stdout",
     "output_type": "stream",
     "text": [
      "Receiver Operating Characteristic: Area Under the Curve score: 0.594114\n"
     ]
    }
   ],
   "source": [
    "y_pred = learner.model.predict(x_test, verbose=0)\n",
    "auc_score = roc_auc_score(y_test, y_pred)\n",
    "\n",
    "print(\"Receiver Operating Characteristic: Area Under the Curve score: %.6f\" % (auc_score))"
   ]
  },
  {
   "cell_type": "code",
   "execution_count": 32,
   "metadata": {},
   "outputs": [
    {
     "name": "stderr",
     "output_type": "stream",
     "text": [
      "/home/ec2-user/anaconda3/envs/tensorflow_p36/lib/python3.6/site-packages/ipykernel/__main__.py:8: DeprecationWarning: scipy.interp is deprecated and will be removed in SciPy 2.0.0, use numpy.interp instead\n"
     ]
    },
    {
     "data": {
      "image/png": "[encoded data removed]",
      "text/plain": [
       "<Figure size 432x288 with 1 Axes>"
      ]
     },
     "metadata": {
      "needs_background": "light"
     },
     "output_type": "display_data"
    }
   ],
   "source": [
    "roc_auc, fpr, tpr = class_performance_aggregation(y_test, y_pred, n_classes)\n",
    "\n",
    "roc_auc, fpr, tpr = multiclass_performance_aggregation(fpr, tpr, n_classes)\n",
    "\n",
    "plot_multiclass_performance(fpr, tpr, roc_auc, n_classes)"
   ]
  },
  {
   "cell_type": "markdown",
   "metadata": {},
   "source": [
    "# PREDICT"
   ]
  },
  {
   "cell_type": "code",
   "execution_count": 33,
   "metadata": {},
   "outputs": [],
   "source": [
    "predictor = ktrain.get_predictor(learner.model, pre_processor)"
   ]
  },
  {
   "cell_type": "markdown",
   "metadata": {},
   "source": [
    "# ERROR ANALYSIS"
   ]
  },
  {
   "cell_type": "code",
   "execution_count": 34,
   "metadata": {},
   "outputs": [],
   "source": [
    "input_texts = {}\n",
    "pred_dictions = {}"
   ]
  },
  {
   "cell_type": "code",
   "execution_count": 35,
   "metadata": {},
   "outputs": [],
   "source": [
    "if data_set == 'jigsaw':\n",
    "    input_texts[0] = [\"If you don't stop immediately, I will kill you.\"]\n",
    "    input_texts[1] = [\"Okay - I'm calling it a night. See you tomorrow.\"]\n",
    "    input_texts[2] = [\"You have a really ugly face.\"]\n",
    "if data_set == 'casetext':\n",
    "    input_texts[0] = [\"Widomski failed to demonstrate that OCCC's explanation for its decision to bring disciplinary proceedings against him was pretext for retaliation. “Claims for retaliation [under the ADA] are analyzed under the same burden-shifting framework established for Title VII cases.” Treglia v. Town of Manlius, 313 F.3d 713, 719 (2d Cir.2002). For substantially the reasons set forth in the District Court's Opinion and Order entered March 21, 2013, we agree that Widomski has not produced evidence that would permit a reasonable factfinder to conclude that the initiation of disciplinary proceedings against him was a pretext for retaliation. Contarino's good faith belief that Widomski fabricated two assignments constitutes a legitimate, nonretaliatory reason for bringing a disciplinary action against him. The burden having shifted back to Widomski to provide competent evidence of pretext, Widomski fails to raise a genuine factual dispute as to whether this explanation is false or otherwise pretextual. See Weinstock v. Columbia Univ., 224 F.3d 33, 42 (2d Cir.2000). CONCLUSION We have considered Widomski's remaining arguments and conclude that they are without merit. For the foregoing reasons, the judgment of the District Court is AFFIRMED.\"]"
   ]
  },
  {
   "cell_type": "code",
   "execution_count": 36,
   "metadata": {},
   "outputs": [
    {
     "data": {
      "text/html": [],
      "text/plain": [
       "<IPython.core.display.HTML object>"
      ]
     },
     "metadata": {},
     "output_type": "display_data"
    },
    {
     "name": "stdout",
     "output_type": "stream",
     "text": [
      "prediction= [[('toxic', 0.097838566), ('severe_toxic', 0.009788746), ('obscene', 0.057829913), ('threat', 0.0022565115), ('insult', 0.04969068), ('identity_hate', 0.008520156)]]\n"
     ]
    },
    {
     "data": {
      "text/html": [],
      "text/plain": [
       "<IPython.core.display.HTML object>"
      ]
     },
     "metadata": {},
     "output_type": "display_data"
    },
    {
     "name": "stdout",
     "output_type": "stream",
     "text": [
      "prediction= [[('toxic', 0.097838566), ('severe_toxic', 0.009788746), ('obscene', 0.057829935), ('threat', 0.0022565115), ('insult', 0.04969068), ('identity_hate', 0.008520156)]]\n"
     ]
    },
    {
     "data": {
      "text/html": [],
      "text/plain": [
       "<IPython.core.display.HTML object>"
      ]
     },
     "metadata": {},
     "output_type": "display_data"
    },
    {
     "name": "stdout",
     "output_type": "stream",
     "text": [
      "prediction= [[('toxic', 0.097838566), ('severe_toxic', 0.009788746), ('obscene', 0.057829935), ('threat', 0.0022565115), ('insult', 0.04969069), ('identity_hate', 0.008520156)]]\n"
     ]
    }
   ],
   "source": [
    "for k, v in input_texts.items():\n",
    "    prediction = predictor.predict(v)\n",
    "    print(\"prediction=\", prediction)\n",
    "    pred_dictions[k] = prediction"
   ]
  },
  {
   "cell_type": "code",
   "execution_count": 37,
   "metadata": {},
   "outputs": [
    {
     "name": "stdout",
     "output_type": "stream",
     "text": [
      "0 input_texts= [\"If you don't stop immediately, I will kill you.\"]\n",
      "0 predictions= [[('toxic', 0.097838566), ('severe_toxic', 0.009788746), ('obscene', 0.057829913), ('threat', 0.0022565115), ('insult', 0.04969068), ('identity_hate', 0.008520156)]]\n",
      "1 input_texts= [\"Okay - I'm calling it a night. See you tomorrow.\"]\n",
      "1 predictions= [[('toxic', 0.097838566), ('severe_toxic', 0.009788746), ('obscene', 0.057829935), ('threat', 0.0022565115), ('insult', 0.04969068), ('identity_hate', 0.008520156)]]\n",
      "2 input_texts= ['You have a really ugly face.']\n",
      "2 predictions= [[('toxic', 0.097838566), ('severe_toxic', 0.009788746), ('obscene', 0.057829935), ('threat', 0.0022565115), ('insult', 0.04969069), ('identity_hate', 0.008520156)]]\n"
     ]
    }
   ],
   "source": [
    "for i in range(len(input_texts)):  \n",
    "    print(i, \"input_texts=\", input_texts[i])\n",
    "    print(i, \"predictions=\", pred_dictions[i])"
   ]
  },
  {
   "cell_type": "markdown",
   "metadata": {},
   "source": [
    "# MODEL SAVE, LOAD"
   ]
  },
  {
   "cell_type": "code",
   "execution_count": null,
   "metadata": {},
   "outputs": [],
   "source": [
    "predictor.save(NLP_ROOT + 'multilabel_detector')\n",
    "predictor = ktrain.load_predictor(NLP_ROOT + 'multilabel_detector')"
   ]
  },
  {
   "cell_type": "code",
   "execution_count": null,
   "metadata": {},
   "outputs": [],
   "source": [
    "predictor.predict(input_texts[0])"
   ]
  },
  {
   "cell_type": "markdown",
   "metadata": {},
   "source": [
    "# REFERENCES"
   ]
  },
  {
   "cell_type": "code",
   "execution_count": null,
   "metadata": {},
   "outputs": [],
   "source": [
    "# Blog: IMDB https://towardsdatascience.com/bert-text-classification-in-3-lines-of-code-using-keras-264db7e7a358\n",
    "# Demo: IMDB https://colab.research.google.com/drive/18SVeIFXWCiA9HL4WVCAFxlfH59ez6atc#scrollTo=p5lJ5jXpqtM9\n",
    "# Demo: Newsgroup https://colab.research.google.com/drive/1AH3fkKiEqBpVpO5ua00scp7zcHs5IDLK"
   ]
  },
  {
   "cell_type": "code",
   "execution_count": null,
   "metadata": {},
   "outputs": [],
   "source": []
  }
 ],
 "metadata": {
  "kernelspec": {
   "display_name": "conda_tensorflow_p36",
   "language": "python",
   "name": "conda_tensorflow_p36"
  },
  "language_info": {
   "codemirror_mode": {
    "name": "ipython",
    "version": 3
   },
   "file_extension": ".py",
   "mimetype": "text/x-python",
   "name": "python",
   "nbconvert_exporter": "python",
   "pygments_lexer": "ipython3",
   "version": "3.6.10"
  }
 },
 "nbformat": 4,
 "nbformat_minor": 2
}
